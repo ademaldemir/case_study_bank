{
  "nbformat": 4,
  "nbformat_minor": 0,
  "metadata": {
    "kernelspec": {
      "display_name": "Python 3",
      "language": "python",
      "name": "python3"
    },
    "language_info": {
      "codemirror_mode": {
        "name": "ipython",
        "version": 3
      },
      "file_extension": ".py",
      "mimetype": "text/x-python",
      "name": "python",
      "nbconvert_exporter": "python",
      "pygments_lexer": "ipython3",
      "version": "3.6.5"
    },
    "colab": {
      "name": "GB_RATI_Analytical_CaseStudy_Adem_Aldemir.ipynb",
      "provenance": [],
      "toc_visible": true
    }
  },
  "cells": [
    {
      "cell_type": "markdown",
      "metadata": {
        "id": "dsBAMlSIOi8V"
      },
      "source": [
        "# ADEM ALDEMIR"
      ]
    },
    {
      "cell_type": "markdown",
      "metadata": {
        "id": "zoGr1-rl-js8"
      },
      "source": [
        "\n",
        "# Analytical Case Study \n",
        "## Risk Analytics, Technology, and Innovation\n"
      ]
    },
    {
      "cell_type": "markdown",
      "metadata": {
        "id": "r0wgsVaCWV4s"
      },
      "source": [
        "\n",
        "## Table of Contents\n",
        "- **Introduction**\n",
        "- **Data Munging**\n",
        "- **Question 1**\n",
        "- **Question 2**\n",
        "- **Question 3**\n",
        "- **Question 4**\n",
        "- **Question 5**\n",
        "- **Question 6**\n",
        "- **Question 7**\n",
        "\n"
      ]
    },
    {
      "cell_type": "markdown",
      "metadata": {
        "id": "syYZTwgh-js-"
      },
      "source": [
        "## Introduction\n",
        "\n",
        "This analysis mainly aims to determine which one of these clients without financial information, have actually over 5 million ₺ net sales. With this aspect, basic statistical analysis has been studied in the data munging part and questions have been answered in the following."
      ]
    },
    {
      "cell_type": "markdown",
      "metadata": {
        "id": "HGGAgygp-js_"
      },
      "source": [
        "## Data Munging \n",
        "Data wrangling is the process of cleaning, structuring and enriching raw data into a desired format for better decision making in less time. \n",
        "\n",
        " * **Import data and python packages:** imports Python libraries and loads data files into DataFrames, \n",
        " * **Cleaning Data:** analyses the amount of work that needs to be done and performs the steps necessary to make the data tidy and clean. \n",
        "\n"
      ]
    },
    {
      "cell_type": "markdown",
      "metadata": {
        "id": "Q6JFMeIRZRQZ"
      },
      "source": [
        "### Import data and python packages\n",
        "Before exploring the dataset, necessary modules are imported for the analysis. "
      ]
    },
    {
      "cell_type": "code",
      "metadata": {
        "id": "OwaP_RhL-js_"
      },
      "source": [
        "import pandas as pd\n",
        "import numpy as np\n",
        "import matplotlib.pyplot as plt\n",
        "import seaborn as sns\n",
        "import statsmodels.api as sm\n",
        "from sklearn.impute import SimpleImputer\n",
        "from sklearn.model_selection import train_test_split\n",
        "from sklearn.preprocessing import StandardScaler\n",
        "from sklearn.linear_model import LogisticRegression\n",
        "from sklearn.metrics import confusion_matrix\n",
        "from sklearn.metrics import accuracy_score\n",
        "from sklearn.metrics import classification_report\n",
        "% matplotlib inline"
      ],
      "execution_count": 81,
      "outputs": []
    },
    {
      "cell_type": "markdown",
      "metadata": {
        "id": "0bbiJCuf-jtA"
      },
      "source": [
        "In this section, we are going to load and observe the DataFrame and catch some insights for the questions."
      ]
    },
    {
      "cell_type": "code",
      "metadata": {
        "id": "OI_MCZ98-jtB",
        "colab": {
          "base_uri": "https://localhost:8080/",
          "height": 347
        },
        "outputId": "b7106391-c6b7-4bf6-a174-4fb59da7a8a4"
      },
      "source": [
        "df = pd.read_excel(\"/data1.xlsm\")\n",
        "\n",
        "# preview data\n",
        "df.head(10)"
      ],
      "execution_count": 4,
      "outputs": [
        {
          "output_type": "execute_result",
          "data": {
            "text/html": [
              "<div>\n",
              "<style scoped>\n",
              "    .dataframe tbody tr th:only-of-type {\n",
              "        vertical-align: middle;\n",
              "    }\n",
              "\n",
              "    .dataframe tbody tr th {\n",
              "        vertical-align: top;\n",
              "    }\n",
              "\n",
              "    .dataframe thead th {\n",
              "        text-align: right;\n",
              "    }\n",
              "</style>\n",
              "<table border=\"1\" class=\"dataframe\">\n",
              "  <thead>\n",
              "    <tr style=\"text-align: right;\">\n",
              "      <th></th>\n",
              "      <th>YEAR</th>\n",
              "      <th>Customer_num</th>\n",
              "      <th>Establishment_Date</th>\n",
              "      <th>Number_of_Emp</th>\n",
              "      <th>Profit</th>\n",
              "      <th>Sector</th>\n",
              "      <th>Region</th>\n",
              "      <th>Total Risk</th>\n",
              "      <th>Total Limit</th>\n",
              "      <th>Sales</th>\n",
              "    </tr>\n",
              "  </thead>\n",
              "  <tbody>\n",
              "    <tr>\n",
              "      <th>0</th>\n",
              "      <td>2017</td>\n",
              "      <td>RATI9590GZD</td>\n",
              "      <td>36917</td>\n",
              "      <td>8.0</td>\n",
              "      <td>NaN</td>\n",
              "      <td>RETAIL-WHOLESALE</td>\n",
              "      <td>Marmara Region</td>\n",
              "      <td>70917.0</td>\n",
              "      <td>7000007.0</td>\n",
              "      <td>3</td>\n",
              "    </tr>\n",
              "    <tr>\n",
              "      <th>1</th>\n",
              "      <td>2015</td>\n",
              "      <td>RATI2539VHR</td>\n",
              "      <td>34389</td>\n",
              "      <td>21.0</td>\n",
              "      <td>32615.0</td>\n",
              "      <td>MANUFACTURING</td>\n",
              "      <td>Central Anatolia Region</td>\n",
              "      <td>682602.0</td>\n",
              "      <td>2354029.0</td>\n",
              "      <td>0</td>\n",
              "    </tr>\n",
              "    <tr>\n",
              "      <th>2</th>\n",
              "      <td>2010</td>\n",
              "      <td>RATI4481GNN</td>\n",
              "      <td>35089</td>\n",
              "      <td>7.0</td>\n",
              "      <td>282834.0</td>\n",
              "      <td>RETAIL-WHOLESALE</td>\n",
              "      <td>Mediterranean Region</td>\n",
              "      <td>115581.0</td>\n",
              "      <td>592922.0</td>\n",
              "      <td>0</td>\n",
              "    </tr>\n",
              "    <tr>\n",
              "      <th>3</th>\n",
              "      <td>2012</td>\n",
              "      <td>RATI4948THA</td>\n",
              "      <td>38084</td>\n",
              "      <td>34.0</td>\n",
              "      <td>35597.0</td>\n",
              "      <td>MANUFACTURING</td>\n",
              "      <td>Southeastern Anatolia Region</td>\n",
              "      <td>39334.0</td>\n",
              "      <td>2471021.0</td>\n",
              "      <td>1</td>\n",
              "    </tr>\n",
              "    <tr>\n",
              "      <th>4</th>\n",
              "      <td>2013</td>\n",
              "      <td>RATI8841WYZ</td>\n",
              "      <td>38831</td>\n",
              "      <td>15.0</td>\n",
              "      <td>134259.0</td>\n",
              "      <td>SERVICES</td>\n",
              "      <td>Aegean Region</td>\n",
              "      <td>71295.0</td>\n",
              "      <td>506238.0</td>\n",
              "      <td>0</td>\n",
              "    </tr>\n",
              "    <tr>\n",
              "      <th>5</th>\n",
              "      <td>2011</td>\n",
              "      <td>RATI6581GZV</td>\n",
              "      <td>39109</td>\n",
              "      <td>25.0</td>\n",
              "      <td>NaN</td>\n",
              "      <td>OTHERS</td>\n",
              "      <td>Marmara Region</td>\n",
              "      <td>524053.0</td>\n",
              "      <td>1225401.0</td>\n",
              "      <td>3</td>\n",
              "    </tr>\n",
              "    <tr>\n",
              "      <th>6</th>\n",
              "      <td>2017</td>\n",
              "      <td>RATI9051OKI</td>\n",
              "      <td>36693</td>\n",
              "      <td>8.0</td>\n",
              "      <td>6481.0</td>\n",
              "      <td>MANUFACTURING</td>\n",
              "      <td>Marmara Region</td>\n",
              "      <td>107145.0</td>\n",
              "      <td>873191.0</td>\n",
              "      <td>0</td>\n",
              "    </tr>\n",
              "    <tr>\n",
              "      <th>7</th>\n",
              "      <td>2012</td>\n",
              "      <td>RATI8817WSE</td>\n",
              "      <td>35878</td>\n",
              "      <td>13.0</td>\n",
              "      <td>NaN</td>\n",
              "      <td>MANUFACTURING</td>\n",
              "      <td>Eastern Anatolia Region</td>\n",
              "      <td>299797.0</td>\n",
              "      <td>701336.0</td>\n",
              "      <td>3</td>\n",
              "    </tr>\n",
              "    <tr>\n",
              "      <th>8</th>\n",
              "      <td>2014</td>\n",
              "      <td>RATI8420EUQ</td>\n",
              "      <td>40125</td>\n",
              "      <td>3.0</td>\n",
              "      <td>45293.0</td>\n",
              "      <td>MANUFACTURING</td>\n",
              "      <td>Mediterranean Region</td>\n",
              "      <td>1513099.0</td>\n",
              "      <td>2291052.0</td>\n",
              "      <td>0</td>\n",
              "    </tr>\n",
              "    <tr>\n",
              "      <th>9</th>\n",
              "      <td>2012</td>\n",
              "      <td>RATI7366ECM</td>\n",
              "      <td>38704</td>\n",
              "      <td>21.0</td>\n",
              "      <td>7825.0</td>\n",
              "      <td>RETAIL-WHOLESALE</td>\n",
              "      <td>Central Anatolia Region</td>\n",
              "      <td>355087.0</td>\n",
              "      <td>1512329.0</td>\n",
              "      <td>1</td>\n",
              "    </tr>\n",
              "  </tbody>\n",
              "</table>\n",
              "</div>"
            ],
            "text/plain": [
              "   YEAR Customer_num   Establishment_Date  ...  Total Risk   Total Limit Sales\n",
              "0  2017   RATI9590GZD               36917  ...      70917.0    7000007.0     3\n",
              "1  2015   RATI2539VHR               34389  ...     682602.0    2354029.0     0\n",
              "2  2010   RATI4481GNN               35089  ...     115581.0     592922.0     0\n",
              "3  2012   RATI4948THA               38084  ...      39334.0    2471021.0     1\n",
              "4  2013   RATI8841WYZ               38831  ...      71295.0     506238.0     0\n",
              "5  2011   RATI6581GZV               39109  ...     524053.0    1225401.0     3\n",
              "6  2017   RATI9051OKI               36693  ...     107145.0     873191.0     0\n",
              "7  2012   RATI8817WSE               35878  ...     299797.0     701336.0     3\n",
              "8  2014   RATI8420EUQ               40125  ...    1513099.0    2291052.0     0\n",
              "9  2012   RATI7366ECM               38704  ...     355087.0    1512329.0     1\n",
              "\n",
              "[10 rows x 10 columns]"
            ]
          },
          "metadata": {
            "tags": []
          },
          "execution_count": 4
        }
      ]
    },
    {
      "cell_type": "markdown",
      "metadata": {
        "id": "h4rbloBx-jtB"
      },
      "source": [
        "At first view, it seems that there is a clean dataset. \n",
        "* As in the case stated, the bank does not have current financial statements of each company that can be seen in the Profit column  as there are null values and in the Sales column, the value 3, indicates  that there is no information\n",
        "\n",
        "* Also, we have some data quality issues in the establisment_date column because at the column name it says Date but when I look it indicates the establishment day since the company established."
      ]
    },
    {
      "cell_type": "code",
      "metadata": {
        "id": "A0Jb0gSd-jtB",
        "colab": {
          "base_uri": "https://localhost:8080/"
        },
        "outputId": "536db064-8818-4cc6-9345-94428a048351"
      },
      "source": [
        "df.shape"
      ],
      "execution_count": 5,
      "outputs": [
        {
          "output_type": "execute_result",
          "data": {
            "text/plain": [
              "(11357, 10)"
            ]
          },
          "metadata": {
            "tags": []
          },
          "execution_count": 5
        }
      ]
    },
    {
      "cell_type": "markdown",
      "metadata": {
        "id": "VC48oFVo-jtC"
      },
      "source": [
        "The Dataset includes 11K observations/rows and 10 colomns/features."
      ]
    },
    {
      "cell_type": "code",
      "metadata": {
        "id": "twCq6bra-jtC",
        "colab": {
          "base_uri": "https://localhost:8080/"
        },
        "outputId": "5e1ce748-1a42-418b-9667-01e95af474e4"
      },
      "source": [
        "df.info()"
      ],
      "execution_count": 6,
      "outputs": [
        {
          "output_type": "stream",
          "text": [
            "<class 'pandas.core.frame.DataFrame'>\n",
            "RangeIndex: 11357 entries, 0 to 11356\n",
            "Data columns (total 10 columns):\n",
            " #   Column              Non-Null Count  Dtype  \n",
            "---  ------              --------------  -----  \n",
            " 0   YEAR                11357 non-null  int64  \n",
            " 1   Customer_num        11357 non-null  object \n",
            " 2   Establishment_Date  11357 non-null  int64  \n",
            " 3   Number_of_Emp       10771 non-null  float64\n",
            " 4   Profit              8526 non-null   float64\n",
            " 5   Sector              11357 non-null  object \n",
            " 6   Region              10118 non-null  object \n",
            " 7   Total Risk          11192 non-null  float64\n",
            " 8   Total Limit         11192 non-null  float64\n",
            " 9   Sales               11357 non-null  int64  \n",
            "dtypes: float64(4), int64(3), object(3)\n",
            "memory usage: 887.4+ KB\n"
          ],
          "name": "stdout"
        }
      ]
    },
    {
      "cell_type": "markdown",
      "metadata": {
        "id": "ZhROJ4Fx-jtD"
      },
      "source": [
        "* When I look at the info table, I see 11357 observations but some columns have less observations. So, there are some null values in the features which are Number_of_Emp, Profit, Region, Total Limit, Total Risk; I think, bank does not have these informations\n",
        "\n",
        "* My other thought is companies may be newly opened so, There is no information about Total Risk and Total Limit."
      ]
    },
    {
      "cell_type": "code",
      "metadata": {
        "id": "EYSysNPM-jtD",
        "colab": {
          "base_uri": "https://localhost:8080/",
          "height": 287
        },
        "outputId": "abfc6029-9d2a-46d6-e281-bd458934c94f"
      },
      "source": [
        "df.describe()"
      ],
      "execution_count": 7,
      "outputs": [
        {
          "output_type": "execute_result",
          "data": {
            "text/html": [
              "<div>\n",
              "<style scoped>\n",
              "    .dataframe tbody tr th:only-of-type {\n",
              "        vertical-align: middle;\n",
              "    }\n",
              "\n",
              "    .dataframe tbody tr th {\n",
              "        vertical-align: top;\n",
              "    }\n",
              "\n",
              "    .dataframe thead th {\n",
              "        text-align: right;\n",
              "    }\n",
              "</style>\n",
              "<table border=\"1\" class=\"dataframe\">\n",
              "  <thead>\n",
              "    <tr style=\"text-align: right;\">\n",
              "      <th></th>\n",
              "      <th>YEAR</th>\n",
              "      <th>Establishment_Date</th>\n",
              "      <th>Number_of_Emp</th>\n",
              "      <th>Profit</th>\n",
              "      <th>Total Risk</th>\n",
              "      <th>Total Limit</th>\n",
              "      <th>Sales</th>\n",
              "    </tr>\n",
              "  </thead>\n",
              "  <tbody>\n",
              "    <tr>\n",
              "      <th>count</th>\n",
              "      <td>11357.000000</td>\n",
              "      <td>11357.000000</td>\n",
              "      <td>10771.000000</td>\n",
              "      <td>8.526000e+03</td>\n",
              "      <td>1.119200e+04</td>\n",
              "      <td>1.119200e+04</td>\n",
              "      <td>11357.000000</td>\n",
              "    </tr>\n",
              "    <tr>\n",
              "      <th>mean</th>\n",
              "      <td>2013.939421</td>\n",
              "      <td>37291.960729</td>\n",
              "      <td>16.611642</td>\n",
              "      <td>6.138343e+04</td>\n",
              "      <td>1.249427e+06</td>\n",
              "      <td>2.536513e+06</td>\n",
              "      <td>0.874791</td>\n",
              "    </tr>\n",
              "    <tr>\n",
              "      <th>std</th>\n",
              "      <td>2.216296</td>\n",
              "      <td>2828.828350</td>\n",
              "      <td>84.039303</td>\n",
              "      <td>4.084090e+05</td>\n",
              "      <td>4.356318e+07</td>\n",
              "      <td>1.862993e+07</td>\n",
              "      <td>1.267010</td>\n",
              "    </tr>\n",
              "    <tr>\n",
              "      <th>min</th>\n",
              "      <td>2010.000000</td>\n",
              "      <td>18.000000</td>\n",
              "      <td>1.000000</td>\n",
              "      <td>-1.828452e+07</td>\n",
              "      <td>0.000000e+00</td>\n",
              "      <td>2.831000e+03</td>\n",
              "      <td>0.000000</td>\n",
              "    </tr>\n",
              "    <tr>\n",
              "      <th>25%</th>\n",
              "      <td>2012.000000</td>\n",
              "      <td>35427.000000</td>\n",
              "      <td>4.000000</td>\n",
              "      <td>1.349725e+04</td>\n",
              "      <td>1.197878e+05</td>\n",
              "      <td>5.153302e+05</td>\n",
              "      <td>0.000000</td>\n",
              "    </tr>\n",
              "    <tr>\n",
              "      <th>50%</th>\n",
              "      <td>2014.000000</td>\n",
              "      <td>37804.000000</td>\n",
              "      <td>7.000000</td>\n",
              "      <td>4.505250e+04</td>\n",
              "      <td>3.953125e+05</td>\n",
              "      <td>1.291620e+06</td>\n",
              "      <td>0.000000</td>\n",
              "    </tr>\n",
              "    <tr>\n",
              "      <th>75%</th>\n",
              "      <td>2016.000000</td>\n",
              "      <td>39445.000000</td>\n",
              "      <td>16.000000</td>\n",
              "      <td>1.165898e+05</td>\n",
              "      <td>1.006619e+06</td>\n",
              "      <td>2.931796e+06</td>\n",
              "      <td>1.000000</td>\n",
              "    </tr>\n",
              "    <tr>\n",
              "      <th>max</th>\n",
              "      <td>2017.000000</td>\n",
              "      <td>42535.000000</td>\n",
              "      <td>3333.000000</td>\n",
              "      <td>3.724579e+06</td>\n",
              "      <td>4.602535e+09</td>\n",
              "      <td>1.894825e+09</td>\n",
              "      <td>3.000000</td>\n",
              "    </tr>\n",
              "  </tbody>\n",
              "</table>\n",
              "</div>"
            ],
            "text/plain": [
              "               YEAR  Establishment_Date  ...   Total Limit         Sales\n",
              "count  11357.000000        11357.000000  ...  1.119200e+04  11357.000000\n",
              "mean    2013.939421        37291.960729  ...  2.536513e+06      0.874791\n",
              "std        2.216296         2828.828350  ...  1.862993e+07      1.267010\n",
              "min     2010.000000           18.000000  ...  2.831000e+03      0.000000\n",
              "25%     2012.000000        35427.000000  ...  5.153302e+05      0.000000\n",
              "50%     2014.000000        37804.000000  ...  1.291620e+06      0.000000\n",
              "75%     2016.000000        39445.000000  ...  2.931796e+06      1.000000\n",
              "max     2017.000000        42535.000000  ...  1.894825e+09      3.000000\n",
              "\n",
              "[8 rows x 7 columns]"
            ]
          },
          "metadata": {
            "tags": []
          },
          "execution_count": 7
        }
      ]
    },
    {
      "cell_type": "markdown",
      "metadata": {
        "id": "LCBlRDZg-jtE"
      },
      "source": [
        "Summary statistics for numeric variables\n",
        "* When I look at the YEAR column, oldest information comes from the year 2010, newest one is the year 2017 \n",
        "* As I say, Establisment_Date doesnt indicate the dates, needs to be renamed; because, It can be number of days since company was founded or established.\n",
        "* Profit's min value start from negative values that may be logical because it can not save money.\n",
        "* Total Risk, Total Limit and Sales columns do not have any major problems.\n",
        "* I'll rename the Total Risk and the Total Limit column names because they have blank character and it's not valid when observing with pandas  \n",
        "* Sales feature needs to be converted to categorical from numeric data type and it needs one hot encoding because we don't want to misunderstood by our model."
      ]
    },
    {
      "cell_type": "code",
      "metadata": {
        "id": "Oy95UAa--jtE",
        "colab": {
          "base_uri": "https://localhost:8080/"
        },
        "outputId": "1b6753c1-86e0-475f-8009-35b78167b063"
      },
      "source": [
        "df.Sector.value_counts()"
      ],
      "execution_count": 8,
      "outputs": [
        {
          "output_type": "execute_result",
          "data": {
            "text/plain": [
              "RETAIL-WHOLESALE    5752\n",
              "MANUFACTURING       2897\n",
              "OTHERS              1798\n",
              "SERVICES             910\n",
              "Name: Sector, dtype: int64"
            ]
          },
          "metadata": {
            "tags": []
          },
          "execution_count": 8
        }
      ]
    },
    {
      "cell_type": "code",
      "metadata": {
        "id": "JOQ7Edk_-jtE",
        "colab": {
          "base_uri": "https://localhost:8080/"
        },
        "outputId": "e71ac9fa-e866-40e2-c60b-bbefd0cbe820"
      },
      "source": [
        "df.Region.value_counts()"
      ],
      "execution_count": 9,
      "outputs": [
        {
          "output_type": "execute_result",
          "data": {
            "text/plain": [
              "Marmara Region                  5166\n",
              "Central Anatolia Region         1540\n",
              "Aegean Region                   1212\n",
              "Mediterranean Region            1129\n",
              "Black Sea Region                 477\n",
              "Southeastern Anatolia Region     398\n",
              "Eastern Anatolia Region          196\n",
              "Name: Region, dtype: int64"
            ]
          },
          "metadata": {
            "tags": []
          },
          "execution_count": 9
        }
      ]
    },
    {
      "cell_type": "code",
      "metadata": {
        "id": "Esc3P5AA-jtE",
        "colab": {
          "base_uri": "https://localhost:8080/"
        },
        "outputId": "5349b276-d377-4178-a482-d12c5d041dbb"
      },
      "source": [
        "df.Sales.value_counts()"
      ],
      "execution_count": 10,
      "outputs": [
        {
          "output_type": "execute_result",
          "data": {
            "text/plain": [
              "0    7084\n",
              "3    2831\n",
              "1    1442\n",
              "Name: Sales, dtype: int64"
            ]
          },
          "metadata": {
            "tags": []
          },
          "execution_count": 10
        }
      ]
    },
    {
      "cell_type": "markdown",
      "metadata": {
        "id": "UBUuRofZ-jtF"
      },
      "source": [
        "Here, we have the distribution of categorical variables.\n",
        "* When I look at the \"Sector\" column, Most companies(5752) work on the RETAIL-WHOLESALE sector in the Marmara region.\n",
        "* I don't see any noisy or NaN value in Both Sector and Region features, so they seem to be very clean\n",
        "* At the \"Sales\" column, Only 2831 observations do not have sales information, they need to be excluded before performing any predictive analysis. Because they can produce noisy insights to our models."
      ]
    },
    {
      "cell_type": "code",
      "metadata": {
        "id": "zKCGJHAI-jtF",
        "colab": {
          "base_uri": "https://localhost:8080/"
        },
        "outputId": "e9e5f739-dfc8-4812-c479-2e98ce5629da"
      },
      "source": [
        "df.YEAR.value_counts()"
      ],
      "execution_count": 11,
      "outputs": [
        {
          "output_type": "execute_result",
          "data": {
            "text/plain": [
              "2017    1767\n",
              "2016    1724\n",
              "2015    1604\n",
              "2014    1527\n",
              "2013    1394\n",
              "2012    1294\n",
              "2011    1129\n",
              "2010     918\n",
              "Name: YEAR, dtype: int64"
            ]
          },
          "metadata": {
            "tags": []
          },
          "execution_count": 11
        }
      ]
    },
    {
      "cell_type": "markdown",
      "metadata": {
        "id": "SDHBfBz1-jtF"
      },
      "source": [
        "* I just want to observe here \"YEAR\" column. \n",
        "I see, Old data exists in the dataset. Data which is older than a certain level may be considered to be excluded from dataset as a business perspective; because, data may lose its informative value. "
      ]
    },
    {
      "cell_type": "markdown",
      "metadata": {
        "id": "WaelhNFmhmqH"
      },
      "source": [
        "I am going to check Duplicated observations in below. "
      ]
    },
    {
      "cell_type": "code",
      "metadata": {
        "id": "9mzQE1Sj-jtF",
        "colab": {
          "base_uri": "https://localhost:8080/",
          "height": 197
        },
        "outputId": "e4e0a01c-15cc-4cb2-f21d-1357ae3c38a1"
      },
      "source": [
        "df[df.iloc[:,1:2].duplicated()].head()"
      ],
      "execution_count": 12,
      "outputs": [
        {
          "output_type": "execute_result",
          "data": {
            "text/html": [
              "<div>\n",
              "<style scoped>\n",
              "    .dataframe tbody tr th:only-of-type {\n",
              "        vertical-align: middle;\n",
              "    }\n",
              "\n",
              "    .dataframe tbody tr th {\n",
              "        vertical-align: top;\n",
              "    }\n",
              "\n",
              "    .dataframe thead th {\n",
              "        text-align: right;\n",
              "    }\n",
              "</style>\n",
              "<table border=\"1\" class=\"dataframe\">\n",
              "  <thead>\n",
              "    <tr style=\"text-align: right;\">\n",
              "      <th></th>\n",
              "      <th>YEAR</th>\n",
              "      <th>Customer_num</th>\n",
              "      <th>Establishment_Date</th>\n",
              "      <th>Number_of_Emp</th>\n",
              "      <th>Profit</th>\n",
              "      <th>Sector</th>\n",
              "      <th>Region</th>\n",
              "      <th>Total Risk</th>\n",
              "      <th>Total Limit</th>\n",
              "      <th>Sales</th>\n",
              "    </tr>\n",
              "  </thead>\n",
              "  <tbody>\n",
              "    <tr>\n",
              "      <th>100</th>\n",
              "      <td>2016</td>\n",
              "      <td>RATI9475NNY</td>\n",
              "      <td>36789</td>\n",
              "      <td>1.0</td>\n",
              "      <td>-52876.0</td>\n",
              "      <td>MANUFACTURING</td>\n",
              "      <td>Central Anatolia Region</td>\n",
              "      <td>58386.0</td>\n",
              "      <td>1503634.0</td>\n",
              "      <td>0</td>\n",
              "    </tr>\n",
              "    <tr>\n",
              "      <th>105</th>\n",
              "      <td>2013</td>\n",
              "      <td>RATI9475NNY</td>\n",
              "      <td>36792</td>\n",
              "      <td>1.0</td>\n",
              "      <td>-14572.0</td>\n",
              "      <td>MANUFACTURING</td>\n",
              "      <td>Central Anatolia Region</td>\n",
              "      <td>70887.0</td>\n",
              "      <td>1943044.0</td>\n",
              "      <td>0</td>\n",
              "    </tr>\n",
              "    <tr>\n",
              "      <th>134</th>\n",
              "      <td>2014</td>\n",
              "      <td>RATI9571DKB</td>\n",
              "      <td>36697</td>\n",
              "      <td>1.0</td>\n",
              "      <td>13361.0</td>\n",
              "      <td>MANUFACTURING</td>\n",
              "      <td>Central Anatolia Region</td>\n",
              "      <td>61918.0</td>\n",
              "      <td>435756.0</td>\n",
              "      <td>0</td>\n",
              "    </tr>\n",
              "    <tr>\n",
              "      <th>174</th>\n",
              "      <td>2010</td>\n",
              "      <td>RATI1077KXC</td>\n",
              "      <td>33455</td>\n",
              "      <td>NaN</td>\n",
              "      <td>NaN</td>\n",
              "      <td>RETAIL-WHOLESALE</td>\n",
              "      <td>Aegean Region</td>\n",
              "      <td>21417.0</td>\n",
              "      <td>1808611.0</td>\n",
              "      <td>3</td>\n",
              "    </tr>\n",
              "    <tr>\n",
              "      <th>198</th>\n",
              "      <td>2015</td>\n",
              "      <td>RATI7201XMY</td>\n",
              "      <td>38955</td>\n",
              "      <td>30.0</td>\n",
              "      <td>NaN</td>\n",
              "      <td>RETAIL-WHOLESALE</td>\n",
              "      <td>Aegean Region</td>\n",
              "      <td>144858.0</td>\n",
              "      <td>1980660.0</td>\n",
              "      <td>3</td>\n",
              "    </tr>\n",
              "  </tbody>\n",
              "</table>\n",
              "</div>"
            ],
            "text/plain": [
              "     YEAR Customer_num   Establishment_Date  ...  Total Risk   Total Limit Sales\n",
              "100  2016   RATI9475NNY               36789  ...      58386.0    1503634.0     0\n",
              "105  2013   RATI9475NNY               36792  ...      70887.0    1943044.0     0\n",
              "134  2014   RATI9571DKB               36697  ...      61918.0     435756.0     0\n",
              "174  2010   RATI1077KXC               33455  ...      21417.0    1808611.0     3\n",
              "198  2015   RATI7201XMY               38955  ...     144858.0    1980660.0     3\n",
              "\n",
              "[5 rows x 10 columns]"
            ]
          },
          "metadata": {
            "tags": []
          },
          "execution_count": 12
        }
      ]
    },
    {
      "cell_type": "markdown",
      "metadata": {
        "id": "u38FA3Gb-jtG"
      },
      "source": [
        "* It can be seen that there are duplicated CUSTOMER ID's. ID needs to be unique in terms of clients; clients' latest information could be extracted from data."
      ]
    },
    {
      "cell_type": "code",
      "metadata": {
        "id": "t5HcereZ-jtG",
        "colab": {
          "base_uri": "https://localhost:8080/"
        },
        "outputId": "5cca9257-4e56-471e-de18-e28e1f3bb782"
      },
      "source": [
        "# check column names\n",
        "df.columns"
      ],
      "execution_count": 13,
      "outputs": [
        {
          "output_type": "execute_result",
          "data": {
            "text/plain": [
              "Index(['YEAR', 'Customer_num ', 'Establishment_Date', 'Number_of_Emp',\n",
              "       'Profit', 'Sector', 'Region', 'Total Risk ', 'Total Limit', 'Sales'],\n",
              "      dtype='object')"
            ]
          },
          "metadata": {
            "tags": []
          },
          "execution_count": 13
        }
      ]
    },
    {
      "cell_type": "markdown",
      "metadata": {
        "id": "KJ4OTTq1-jtG"
      },
      "source": [
        "* Yess, It can be seen that there are problematic column names which have unnecessary blanks. 😬"
      ]
    },
    {
      "cell_type": "markdown",
      "metadata": {
        "id": "QtCkIyuK-jtG"
      },
      "source": [
        "## Question1\n",
        "\n",
        "Do you think this data is suitable for modeling, if it is not, what improvements should be done?"
      ]
    },
    {
      "cell_type": "markdown",
      "metadata": {
        "id": "uk3fD29f-jtG"
      },
      "source": [
        "It is, in general, suitable although some of the features look irrelevant such as customer identification number and establishment date. But, Features and target are clearly defined. However, following tidiness and quality issues that found from at the data munging part, is needed to be solved.\n",
        "And, Historical sales of the companies would also be helpful since that would give an idea about the trend of the company. If there are other features that are related to the number of sales, that also would help to create a more robust model.\n",
        "\n",
        "My improvements :\n",
        "\n",
        "1. Labels should be renamed especially for 'Customer_num ', 'Total Risk ', 'Total Limit' and 'Establishment_Date' columns\n",
        "2. There are duplicated customer ids. Data should be unique in terms of customer id; therefore, customers' latest information can be used for further analysis. So, I'll exclude the duplicated ID raws.\n",
        "3. Sales column needs to be converted from integer to object format and observations which have value 3 in the Sales columns need to be excluded from dataset because they have no enough info.\n",
        "* Missing values should be filled with mean or median and standardization should be applied before diving into modelling\n",
        "* To use categorical data in the modeling, they are needed to be encoded with label encoder or One hot encoding but I'll choose One hot Encoding method.\n",
        "\n",
        "I want to indicate that there are some points that needs to be considered.\n",
        "\n",
        "* More information may be added into dataset such as payment amount to justify the balance of client or information about company's sector position or its culture that Mrs. Sevinç stated to find out the exception.\n",
        "\n",
        "\n"
      ]
    },
    {
      "cell_type": "markdown",
      "metadata": {
        "id": "FlYKZLrZ-jtH"
      },
      "source": [
        "## Cleaning Data\n",
        "\n",
        "In this section, I am going to define the problem which are listed in Question1, and then code the solutions, later test the code sequentialy."
      ]
    },
    {
      "cell_type": "code",
      "metadata": {
        "id": "HwF77mOc-jtH"
      },
      "source": [
        "df_new = df.copy()"
      ],
      "execution_count": 14,
      "outputs": []
    },
    {
      "cell_type": "markdown",
      "metadata": {
        "id": "0ojbG_UE-jtH"
      },
      "source": [
        "#### Improvement (1)\n",
        "\n",
        "Labels should be renamed especially for 'Customer_num ', 'Total Risk ', 'Total Limit' and 'Establishment_Date' columns."
      ]
    },
    {
      "cell_type": "markdown",
      "metadata": {
        "id": "PD3F7g0M-jtH"
      },
      "source": [
        "#### Code"
      ]
    },
    {
      "cell_type": "code",
      "metadata": {
        "id": "z9-VQjeh-jtI"
      },
      "source": [
        "df_new = df_new.rename(columns={'Customer_num ' :'Customer_num',\n",
        "                                    'Establishment_Date' : 'Establishment_Day',\n",
        "                                    'Total Risk ':'Total_Risk',\n",
        "                                    'Total Limit': 'Total_Limit'})"
      ],
      "execution_count": 15,
      "outputs": []
    },
    {
      "cell_type": "markdown",
      "metadata": {
        "id": "ZvBgXO4G-jtI"
      },
      "source": [
        "#### Test"
      ]
    },
    {
      "cell_type": "code",
      "metadata": {
        "id": "J65Z79E6-jtI",
        "colab": {
          "base_uri": "https://localhost:8080/"
        },
        "outputId": "1f75ef9d-6801-45a6-d55b-2ed229392c85"
      },
      "source": [
        "df_new.columns"
      ],
      "execution_count": 16,
      "outputs": [
        {
          "output_type": "execute_result",
          "data": {
            "text/plain": [
              "Index(['YEAR', 'Customer_num', 'Establishment_Day', 'Number_of_Emp', 'Profit',\n",
              "       'Sector', 'Region', 'Total_Risk', 'Total_Limit', 'Sales'],\n",
              "      dtype='object')"
            ]
          },
          "metadata": {
            "tags": []
          },
          "execution_count": 16
        }
      ]
    },
    {
      "cell_type": "markdown",
      "metadata": {
        "id": "sDqFmXlk-jtJ"
      },
      "source": [
        "#### Improvement (2)\n",
        "\n",
        "There are duplicated customer ids. Data should be unique in terms of customer id; therefore, customers' latest information can be used for further analysis. So, I'll exclude the duplicated ID raws."
      ]
    },
    {
      "cell_type": "markdown",
      "metadata": {
        "id": "NV9oi4zW-jtJ"
      },
      "source": [
        "#### Code"
      ]
    },
    {
      "cell_type": "code",
      "metadata": {
        "id": "ATx1GgMs-jtJ"
      },
      "source": [
        "df_new = df_new.groupby('Customer_num', group_keys=False).apply(lambda x: x.loc[x.YEAR.idxmax()])"
      ],
      "execution_count": 17,
      "outputs": []
    },
    {
      "cell_type": "markdown",
      "metadata": {
        "id": "N8kRMrzp-jtJ"
      },
      "source": [
        "#### Test"
      ]
    },
    {
      "cell_type": "code",
      "metadata": {
        "id": "Fv1XuVLm-jtJ",
        "colab": {
          "base_uri": "https://localhost:8080/",
          "height": 257
        },
        "outputId": "a10d3568-c47c-4533-d07f-c6692fa1048d"
      },
      "source": [
        "df.loc[df['Customer_num '] == 'RATI9475NNY', ]"
      ],
      "execution_count": 18,
      "outputs": [
        {
          "output_type": "execute_result",
          "data": {
            "text/html": [
              "<div>\n",
              "<style scoped>\n",
              "    .dataframe tbody tr th:only-of-type {\n",
              "        vertical-align: middle;\n",
              "    }\n",
              "\n",
              "    .dataframe tbody tr th {\n",
              "        vertical-align: top;\n",
              "    }\n",
              "\n",
              "    .dataframe thead th {\n",
              "        text-align: right;\n",
              "    }\n",
              "</style>\n",
              "<table border=\"1\" class=\"dataframe\">\n",
              "  <thead>\n",
              "    <tr style=\"text-align: right;\">\n",
              "      <th></th>\n",
              "      <th>YEAR</th>\n",
              "      <th>Customer_num</th>\n",
              "      <th>Establishment_Date</th>\n",
              "      <th>Number_of_Emp</th>\n",
              "      <th>Profit</th>\n",
              "      <th>Sector</th>\n",
              "      <th>Region</th>\n",
              "      <th>Total Risk</th>\n",
              "      <th>Total Limit</th>\n",
              "      <th>Sales</th>\n",
              "    </tr>\n",
              "  </thead>\n",
              "  <tbody>\n",
              "    <tr>\n",
              "      <th>25</th>\n",
              "      <td>2015</td>\n",
              "      <td>RATI9475NNY</td>\n",
              "      <td>36799</td>\n",
              "      <td>1.0</td>\n",
              "      <td>38313.0</td>\n",
              "      <td>MANUFACTURING</td>\n",
              "      <td>Central Anatolia Region</td>\n",
              "      <td>54008.0</td>\n",
              "      <td>1521978.0</td>\n",
              "      <td>0</td>\n",
              "    </tr>\n",
              "    <tr>\n",
              "      <th>100</th>\n",
              "      <td>2016</td>\n",
              "      <td>RATI9475NNY</td>\n",
              "      <td>36789</td>\n",
              "      <td>1.0</td>\n",
              "      <td>-52876.0</td>\n",
              "      <td>MANUFACTURING</td>\n",
              "      <td>Central Anatolia Region</td>\n",
              "      <td>58386.0</td>\n",
              "      <td>1503634.0</td>\n",
              "      <td>0</td>\n",
              "    </tr>\n",
              "    <tr>\n",
              "      <th>105</th>\n",
              "      <td>2013</td>\n",
              "      <td>RATI9475NNY</td>\n",
              "      <td>36792</td>\n",
              "      <td>1.0</td>\n",
              "      <td>-14572.0</td>\n",
              "      <td>MANUFACTURING</td>\n",
              "      <td>Central Anatolia Region</td>\n",
              "      <td>70887.0</td>\n",
              "      <td>1943044.0</td>\n",
              "      <td>0</td>\n",
              "    </tr>\n",
              "    <tr>\n",
              "      <th>1549</th>\n",
              "      <td>2014</td>\n",
              "      <td>RATI9475NNY</td>\n",
              "      <td>36791</td>\n",
              "      <td>1.0</td>\n",
              "      <td>NaN</td>\n",
              "      <td>MANUFACTURING</td>\n",
              "      <td>Central Anatolia Region</td>\n",
              "      <td>37175.0</td>\n",
              "      <td>1811846.0</td>\n",
              "      <td>3</td>\n",
              "    </tr>\n",
              "    <tr>\n",
              "      <th>4031</th>\n",
              "      <td>2011</td>\n",
              "      <td>RATI9475NNY</td>\n",
              "      <td>36807</td>\n",
              "      <td>1.0</td>\n",
              "      <td>28832.0</td>\n",
              "      <td>MANUFACTURING</td>\n",
              "      <td>Central Anatolia Region</td>\n",
              "      <td>394075.0</td>\n",
              "      <td>547229.0</td>\n",
              "      <td>0</td>\n",
              "    </tr>\n",
              "    <tr>\n",
              "      <th>6790</th>\n",
              "      <td>2010</td>\n",
              "      <td>RATI9475NNY</td>\n",
              "      <td>36811</td>\n",
              "      <td>1.0</td>\n",
              "      <td>22443.0</td>\n",
              "      <td>MANUFACTURING</td>\n",
              "      <td>Central Anatolia Region</td>\n",
              "      <td>159931.0</td>\n",
              "      <td>497849.0</td>\n",
              "      <td>0</td>\n",
              "    </tr>\n",
              "    <tr>\n",
              "      <th>11284</th>\n",
              "      <td>2012</td>\n",
              "      <td>RATI9475NNY</td>\n",
              "      <td>36803</td>\n",
              "      <td>1.0</td>\n",
              "      <td>15461.0</td>\n",
              "      <td>MANUFACTURING</td>\n",
              "      <td>Central Anatolia Region</td>\n",
              "      <td>67113.0</td>\n",
              "      <td>1919368.0</td>\n",
              "      <td>0</td>\n",
              "    </tr>\n",
              "  </tbody>\n",
              "</table>\n",
              "</div>"
            ],
            "text/plain": [
              "       YEAR Customer_num   Establishment_Date  ...  Total Risk   Total Limit Sales\n",
              "25     2015   RATI9475NNY               36799  ...      54008.0    1521978.0     0\n",
              "100    2016   RATI9475NNY               36789  ...      58386.0    1503634.0     0\n",
              "105    2013   RATI9475NNY               36792  ...      70887.0    1943044.0     0\n",
              "1549   2014   RATI9475NNY               36791  ...      37175.0    1811846.0     3\n",
              "4031   2011   RATI9475NNY               36807  ...     394075.0     547229.0     0\n",
              "6790   2010   RATI9475NNY               36811  ...     159931.0     497849.0     0\n",
              "11284  2012   RATI9475NNY               36803  ...      67113.0    1919368.0     0\n",
              "\n",
              "[7 rows x 10 columns]"
            ]
          },
          "metadata": {
            "tags": []
          },
          "execution_count": 18
        }
      ]
    },
    {
      "cell_type": "code",
      "metadata": {
        "id": "42ZVyj6z-jtJ",
        "colab": {
          "base_uri": "https://localhost:8080/",
          "height": 107
        },
        "outputId": "a78a00ee-290e-4b1e-e513-8666547b9e7e"
      },
      "source": [
        "df_new.loc[df_new['Customer_num'] == 'RATI9475NNY', ]"
      ],
      "execution_count": 20,
      "outputs": [
        {
          "output_type": "execute_result",
          "data": {
            "text/html": [
              "<div>\n",
              "<style scoped>\n",
              "    .dataframe tbody tr th:only-of-type {\n",
              "        vertical-align: middle;\n",
              "    }\n",
              "\n",
              "    .dataframe tbody tr th {\n",
              "        vertical-align: top;\n",
              "    }\n",
              "\n",
              "    .dataframe thead th {\n",
              "        text-align: right;\n",
              "    }\n",
              "</style>\n",
              "<table border=\"1\" class=\"dataframe\">\n",
              "  <thead>\n",
              "    <tr style=\"text-align: right;\">\n",
              "      <th></th>\n",
              "      <th>YEAR</th>\n",
              "      <th>Customer_num</th>\n",
              "      <th>Establishment_Day</th>\n",
              "      <th>Number_of_Emp</th>\n",
              "      <th>Profit</th>\n",
              "      <th>Sector</th>\n",
              "      <th>Region</th>\n",
              "      <th>Total_Risk</th>\n",
              "      <th>Total_Limit</th>\n",
              "      <th>Sales</th>\n",
              "    </tr>\n",
              "    <tr>\n",
              "      <th>Customer_num</th>\n",
              "      <th></th>\n",
              "      <th></th>\n",
              "      <th></th>\n",
              "      <th></th>\n",
              "      <th></th>\n",
              "      <th></th>\n",
              "      <th></th>\n",
              "      <th></th>\n",
              "      <th></th>\n",
              "      <th></th>\n",
              "    </tr>\n",
              "  </thead>\n",
              "  <tbody>\n",
              "    <tr>\n",
              "      <th>RATI9475NNY</th>\n",
              "      <td>2016</td>\n",
              "      <td>RATI9475NNY</td>\n",
              "      <td>36789</td>\n",
              "      <td>1.0</td>\n",
              "      <td>-52876.0</td>\n",
              "      <td>MANUFACTURING</td>\n",
              "      <td>Central Anatolia Region</td>\n",
              "      <td>58386.0</td>\n",
              "      <td>1503634.0</td>\n",
              "      <td>0</td>\n",
              "    </tr>\n",
              "  </tbody>\n",
              "</table>\n",
              "</div>"
            ],
            "text/plain": [
              "              YEAR Customer_num  ...  Total_Limit  Sales\n",
              "Customer_num                     ...                    \n",
              "RATI9475NNY   2016  RATI9475NNY  ...    1503634.0      0\n",
              "\n",
              "[1 rows x 10 columns]"
            ]
          },
          "metadata": {
            "tags": []
          },
          "execution_count": 20
        }
      ]
    },
    {
      "cell_type": "markdown",
      "metadata": {
        "id": "7h5B0ac1-jtK"
      },
      "source": [
        "#### Improvement (3)\n",
        "\n",
        "Sales column needs to be converted from object to integer format and observations which have value 3 in the Sales columns need to be excluded from dataset because they have no enough info. \n",
        "\n",
        "Not: In the raw data, Sales column is object type but I changed the column type in Excel. Later I load it to the notebook. But If you want to do it when you load the data directly to jupyter notebook, we should use below code."
      ]
    },
    {
      "cell_type": "markdown",
      "metadata": {
        "id": "FAnneovu-jtL"
      },
      "source": [
        "#### Code"
      ]
    },
    {
      "cell_type": "code",
      "metadata": {
        "colab": {
          "base_uri": "https://localhost:8080/"
        },
        "id": "eD_fUQunmffQ",
        "outputId": "97586eb6-7bcd-45b7-ac05-b720e1f59cc7"
      },
      "source": [
        "df_new.Sales.dtype"
      ],
      "execution_count": 23,
      "outputs": [
        {
          "output_type": "execute_result",
          "data": {
            "text/plain": [
              "dtype('int64')"
            ]
          },
          "metadata": {
            "tags": []
          },
          "execution_count": 23
        }
      ]
    },
    {
      "cell_type": "code",
      "metadata": {
        "id": "6yJnxoE9-jtL"
      },
      "source": [
        "#df_new['Sales'] = df_new['Sales'].astype(int)"
      ],
      "execution_count": 22,
      "outputs": []
    },
    {
      "cell_type": "code",
      "metadata": {
        "id": "UA1h0SJR-jtL"
      },
      "source": [
        "# remove value 3\n",
        "df_new = df_new[df_new.Sales != 3]"
      ],
      "execution_count": 24,
      "outputs": []
    },
    {
      "cell_type": "markdown",
      "metadata": {
        "id": "vYAYIK9W-jtL"
      },
      "source": [
        "#### Test"
      ]
    },
    {
      "cell_type": "code",
      "metadata": {
        "id": "gk-SH3J6-jtL",
        "colab": {
          "base_uri": "https://localhost:8080/"
        },
        "outputId": "515f58d3-7043-450f-a5f6-fba66803fd0b"
      },
      "source": [
        "df_new.Sales.value_counts()"
      ],
      "execution_count": 25,
      "outputs": [
        {
          "output_type": "execute_result",
          "data": {
            "text/plain": [
              "0    2412\n",
              "1     634\n",
              "Name: Sales, dtype: int64"
            ]
          },
          "metadata": {
            "tags": []
          },
          "execution_count": 25
        }
      ]
    },
    {
      "cell_type": "markdown",
      "metadata": {
        "id": "ne66_Rk0-jtL"
      },
      "source": [
        "## Question2\n",
        "\n",
        "What is your opinion about Mr. Yılmaz’s assumption that “clients with more than 5 million risks in banking sector, also has over 5 million net sales”? Do you think this argument is statistically correct?"
      ]
    },
    {
      "cell_type": "markdown",
      "metadata": {
        "id": "XDw-U7tR-jtM"
      },
      "source": [
        "To answer this question, I need to employ logistic regression; because, each row is either having 5 Mio sales or not(binary). This is binary class classification problem. And Logistic regression is a supervised learning classification algorithm used to predict the probability of a target variable. The nature of target or dependent variable is dichotomous, which means there would be only two possible classes. It is one of the simplest ML algorithms that can be used for various classification problems such as spam detection, Diabetes prediction, cancer detection etc.\n",
        "\n",
        "The goal is to use logistic to fit the regression model to see if there is a significant difference in sales based on client's risk amount. However, I first need to create a column for the intercept, and create a dummy variable column to indicate whether client has risk higher than 5 Mio. "
      ]
    },
    {
      "cell_type": "code",
      "metadata": {
        "id": "3T-Y2wG5-jtM"
      },
      "source": [
        "df_new['Risk'] = df_new['Total_Risk'] > 5000000"
      ],
      "execution_count": 26,
      "outputs": []
    },
    {
      "cell_type": "code",
      "metadata": {
        "id": "1iAD96kkz9Mm"
      },
      "source": [
        "df_new['Risk'] = df_new['Risk'].map({True: 1, False: 0})"
      ],
      "execution_count": 28,
      "outputs": []
    },
    {
      "cell_type": "code",
      "metadata": {
        "colab": {
          "base_uri": "https://localhost:8080/",
          "height": 436
        },
        "id": "9EEZfxXu0IAo",
        "outputId": "e445fd9c-8543-458f-a7ca-8a3653351887"
      },
      "source": [
        "df_new"
      ],
      "execution_count": 29,
      "outputs": [
        {
          "output_type": "execute_result",
          "data": {
            "text/html": [
              "<div>\n",
              "<style scoped>\n",
              "    .dataframe tbody tr th:only-of-type {\n",
              "        vertical-align: middle;\n",
              "    }\n",
              "\n",
              "    .dataframe tbody tr th {\n",
              "        vertical-align: top;\n",
              "    }\n",
              "\n",
              "    .dataframe thead th {\n",
              "        text-align: right;\n",
              "    }\n",
              "</style>\n",
              "<table border=\"1\" class=\"dataframe\">\n",
              "  <thead>\n",
              "    <tr style=\"text-align: right;\">\n",
              "      <th></th>\n",
              "      <th>YEAR</th>\n",
              "      <th>Customer_num</th>\n",
              "      <th>Establishment_Day</th>\n",
              "      <th>Number_of_Emp</th>\n",
              "      <th>Profit</th>\n",
              "      <th>Sector</th>\n",
              "      <th>Region</th>\n",
              "      <th>Total_Risk</th>\n",
              "      <th>Total_Limit</th>\n",
              "      <th>Sales</th>\n",
              "      <th>Risk</th>\n",
              "    </tr>\n",
              "    <tr>\n",
              "      <th>Customer_num</th>\n",
              "      <th></th>\n",
              "      <th></th>\n",
              "      <th></th>\n",
              "      <th></th>\n",
              "      <th></th>\n",
              "      <th></th>\n",
              "      <th></th>\n",
              "      <th></th>\n",
              "      <th></th>\n",
              "      <th></th>\n",
              "      <th></th>\n",
              "    </tr>\n",
              "  </thead>\n",
              "  <tbody>\n",
              "    <tr>\n",
              "      <th>RATI1000EDC</th>\n",
              "      <td>2016</td>\n",
              "      <td>RATI1000EDC</td>\n",
              "      <td>40206</td>\n",
              "      <td>13.0</td>\n",
              "      <td>39846.0</td>\n",
              "      <td>RETAIL-WHOLESALE</td>\n",
              "      <td>Marmara Region</td>\n",
              "      <td>38795.0</td>\n",
              "      <td>722891.0</td>\n",
              "      <td>0</td>\n",
              "      <td>0</td>\n",
              "    </tr>\n",
              "    <tr>\n",
              "      <th>RATI1001HPF</th>\n",
              "      <td>2017</td>\n",
              "      <td>RATI1001HPF</td>\n",
              "      <td>33701</td>\n",
              "      <td>20.0</td>\n",
              "      <td>82182.0</td>\n",
              "      <td>OTHERS</td>\n",
              "      <td>Marmara Region</td>\n",
              "      <td>4603985.0</td>\n",
              "      <td>12112848.0</td>\n",
              "      <td>0</td>\n",
              "      <td>0</td>\n",
              "    </tr>\n",
              "    <tr>\n",
              "      <th>RATI1006ZUA</th>\n",
              "      <td>2017</td>\n",
              "      <td>RATI1006ZUA</td>\n",
              "      <td>38138</td>\n",
              "      <td>20.0</td>\n",
              "      <td>39176.0</td>\n",
              "      <td>SERVICES</td>\n",
              "      <td>Central Anatolia Region</td>\n",
              "      <td>669969.0</td>\n",
              "      <td>3429846.0</td>\n",
              "      <td>0</td>\n",
              "      <td>0</td>\n",
              "    </tr>\n",
              "    <tr>\n",
              "      <th>RATI1008FDC</th>\n",
              "      <td>2015</td>\n",
              "      <td>RATI1008FDC</td>\n",
              "      <td>40224</td>\n",
              "      <td>9.0</td>\n",
              "      <td>95724.0</td>\n",
              "      <td>RETAIL-WHOLESALE</td>\n",
              "      <td>Southeastern Anatolia Region</td>\n",
              "      <td>3288592.0</td>\n",
              "      <td>8237700.0</td>\n",
              "      <td>1</td>\n",
              "      <td>0</td>\n",
              "    </tr>\n",
              "    <tr>\n",
              "      <th>RATI1015EBB</th>\n",
              "      <td>2016</td>\n",
              "      <td>RATI1015EBB</td>\n",
              "      <td>36161</td>\n",
              "      <td>33.0</td>\n",
              "      <td>58446.0</td>\n",
              "      <td>MANUFACTURING</td>\n",
              "      <td>Marmara Region</td>\n",
              "      <td>216474.0</td>\n",
              "      <td>3325581.0</td>\n",
              "      <td>0</td>\n",
              "      <td>0</td>\n",
              "    </tr>\n",
              "    <tr>\n",
              "      <th>...</th>\n",
              "      <td>...</td>\n",
              "      <td>...</td>\n",
              "      <td>...</td>\n",
              "      <td>...</td>\n",
              "      <td>...</td>\n",
              "      <td>...</td>\n",
              "      <td>...</td>\n",
              "      <td>...</td>\n",
              "      <td>...</td>\n",
              "      <td>...</td>\n",
              "      <td>...</td>\n",
              "    </tr>\n",
              "    <tr>\n",
              "      <th>RATI9985VHY</th>\n",
              "      <td>2017</td>\n",
              "      <td>RATI9985VHY</td>\n",
              "      <td>41595</td>\n",
              "      <td>5.0</td>\n",
              "      <td>6469.0</td>\n",
              "      <td>SERVICES</td>\n",
              "      <td>NaN</td>\n",
              "      <td>71396.0</td>\n",
              "      <td>136252.0</td>\n",
              "      <td>0</td>\n",
              "      <td>0</td>\n",
              "    </tr>\n",
              "    <tr>\n",
              "      <th>RATI9986SGD</th>\n",
              "      <td>2010</td>\n",
              "      <td>RATI9986SGD</td>\n",
              "      <td>34707</td>\n",
              "      <td>NaN</td>\n",
              "      <td>35202.0</td>\n",
              "      <td>MANUFACTURING</td>\n",
              "      <td>Marmara Region</td>\n",
              "      <td>300138.0</td>\n",
              "      <td>533367.0</td>\n",
              "      <td>0</td>\n",
              "      <td>0</td>\n",
              "    </tr>\n",
              "    <tr>\n",
              "      <th>RATI9994RYM</th>\n",
              "      <td>2016</td>\n",
              "      <td>RATI9994RYM</td>\n",
              "      <td>36152</td>\n",
              "      <td>25.0</td>\n",
              "      <td>-593249.0</td>\n",
              "      <td>RETAIL-WHOLESALE</td>\n",
              "      <td>Central Anatolia Region</td>\n",
              "      <td>3274543.0</td>\n",
              "      <td>6574278.0</td>\n",
              "      <td>0</td>\n",
              "      <td>0</td>\n",
              "    </tr>\n",
              "    <tr>\n",
              "      <th>RATI9994ZTJ</th>\n",
              "      <td>2017</td>\n",
              "      <td>RATI9994ZTJ</td>\n",
              "      <td>39032</td>\n",
              "      <td>5.0</td>\n",
              "      <td>160145.0</td>\n",
              "      <td>RETAIL-WHOLESALE</td>\n",
              "      <td>NaN</td>\n",
              "      <td>334875.0</td>\n",
              "      <td>9759376.0</td>\n",
              "      <td>0</td>\n",
              "      <td>0</td>\n",
              "    </tr>\n",
              "    <tr>\n",
              "      <th>RATI9996WER</th>\n",
              "      <td>2017</td>\n",
              "      <td>RATI9996WER</td>\n",
              "      <td>35259</td>\n",
              "      <td>45.0</td>\n",
              "      <td>32200.0</td>\n",
              "      <td>RETAIL-WHOLESALE</td>\n",
              "      <td>Marmara Region</td>\n",
              "      <td>841348.0</td>\n",
              "      <td>2207153.0</td>\n",
              "      <td>0</td>\n",
              "      <td>0</td>\n",
              "    </tr>\n",
              "  </tbody>\n",
              "</table>\n",
              "<p>3046 rows × 11 columns</p>\n",
              "</div>"
            ],
            "text/plain": [
              "              YEAR Customer_num  Establishment_Day  ...  Total_Limit  Sales Risk\n",
              "Customer_num                                        ...                         \n",
              "RATI1000EDC   2016  RATI1000EDC              40206  ...     722891.0      0    0\n",
              "RATI1001HPF   2017  RATI1001HPF              33701  ...   12112848.0      0    0\n",
              "RATI1006ZUA   2017  RATI1006ZUA              38138  ...    3429846.0      0    0\n",
              "RATI1008FDC   2015  RATI1008FDC              40224  ...    8237700.0      1    0\n",
              "RATI1015EBB   2016  RATI1015EBB              36161  ...    3325581.0      0    0\n",
              "...            ...          ...                ...  ...          ...    ...  ...\n",
              "RATI9985VHY   2017  RATI9985VHY              41595  ...     136252.0      0    0\n",
              "RATI9986SGD   2010  RATI9986SGD              34707  ...     533367.0      0    0\n",
              "RATI9994RYM   2016  RATI9994RYM              36152  ...    6574278.0      0    0\n",
              "RATI9994ZTJ   2017  RATI9994ZTJ              39032  ...    9759376.0      0    0\n",
              "RATI9996WER   2017  RATI9996WER              35259  ...    2207153.0      0    0\n",
              "\n",
              "[3046 rows x 11 columns]"
            ]
          },
          "metadata": {
            "tags": []
          },
          "execution_count": 29
        }
      ]
    },
    {
      "cell_type": "code",
      "metadata": {
        "id": "QgGgQOO_-jtM",
        "colab": {
          "base_uri": "https://localhost:8080/"
        },
        "outputId": "1d9c841e-6e97-4ef2-b2ea-e0ee8a83a5d3"
      },
      "source": [
        "df_new.info()"
      ],
      "execution_count": 30,
      "outputs": [
        {
          "output_type": "stream",
          "text": [
            "<class 'pandas.core.frame.DataFrame'>\n",
            "Index: 3046 entries, RATI1000EDC to RATI9996WER\n",
            "Data columns (total 11 columns):\n",
            " #   Column             Non-Null Count  Dtype  \n",
            "---  ------             --------------  -----  \n",
            " 0   YEAR               3046 non-null   int64  \n",
            " 1   Customer_num       3046 non-null   object \n",
            " 2   Establishment_Day  3046 non-null   int64  \n",
            " 3   Number_of_Emp      2954 non-null   float64\n",
            " 4   Profit             3046 non-null   float64\n",
            " 5   Sector             3046 non-null   object \n",
            " 6   Region             2769 non-null   object \n",
            " 7   Total_Risk         3019 non-null   float64\n",
            " 8   Total_Limit        3019 non-null   float64\n",
            " 9   Sales              3046 non-null   int64  \n",
            " 10  Risk               3046 non-null   int64  \n",
            "dtypes: float64(4), int64(4), object(3)\n",
            "memory usage: 365.6+ KB\n"
          ],
          "name": "stdout"
        }
      ]
    },
    {
      "cell_type": "markdown",
      "metadata": {
        "id": "INMGk5vq-jtM"
      },
      "source": [
        "Also, still I have null values in the Total_Risk feature. I should remove these observations before establish the model."
      ]
    },
    {
      "cell_type": "code",
      "metadata": {
        "id": "_yc02bJY-jtM"
      },
      "source": [
        "df_new['intercept'] = 1"
      ],
      "execution_count": 31,
      "outputs": []
    },
    {
      "cell_type": "code",
      "metadata": {
        "id": "mWE98DnW0dBW"
      },
      "source": [
        "df_new.drop(df_new[df_new['Total_Risk'].notnull()== False].index,inplace=True)"
      ],
      "execution_count": 33,
      "outputs": []
    },
    {
      "cell_type": "code",
      "metadata": {
        "id": "0rCJ5AmF-jtM",
        "colab": {
          "base_uri": "https://localhost:8080/"
        },
        "outputId": "81b001d6-3ef4-4036-ce48-de73049e5bcc"
      },
      "source": [
        "df_new.info()"
      ],
      "execution_count": 35,
      "outputs": [
        {
          "output_type": "stream",
          "text": [
            "<class 'pandas.core.frame.DataFrame'>\n",
            "Index: 3019 entries, RATI1000EDC to RATI9996WER\n",
            "Data columns (total 12 columns):\n",
            " #   Column             Non-Null Count  Dtype  \n",
            "---  ------             --------------  -----  \n",
            " 0   YEAR               3019 non-null   int64  \n",
            " 1   Customer_num       3019 non-null   object \n",
            " 2   Establishment_Day  3019 non-null   int64  \n",
            " 3   Number_of_Emp      2930 non-null   float64\n",
            " 4   Profit             3019 non-null   float64\n",
            " 5   Sector             3019 non-null   object \n",
            " 6   Region             2750 non-null   object \n",
            " 7   Total_Risk         3019 non-null   float64\n",
            " 8   Total_Limit        3019 non-null   float64\n",
            " 9   Sales              3019 non-null   int64  \n",
            " 10  Risk               3019 non-null   int64  \n",
            " 11  intercept          3019 non-null   int64  \n",
            "dtypes: float64(4), int64(5), object(3)\n",
            "memory usage: 306.6+ KB\n"
          ],
          "name": "stdout"
        }
      ]
    },
    {
      "cell_type": "markdown",
      "metadata": {
        "id": "Xx1JeuxZ1C78"
      },
      "source": [
        "In the below cell, I observe that If customer has Risk or not and Annual Net Sales greater or less than 5M ₺ how many companies are there. We can comment out that 2342 companies has no risk but has no annual sales value is greater than 5M ₺. "
      ]
    },
    {
      "cell_type": "code",
      "metadata": {
        "id": "7mjU44D3-jtN",
        "colab": {
          "base_uri": "https://localhost:8080/"
        },
        "outputId": "5eee4820-b58f-4635-a759-13315b1cdf54"
      },
      "source": [
        "df_new.groupby(['Risk','Sales']).nunique()['Customer_num']"
      ],
      "execution_count": 36,
      "outputs": [
        {
          "output_type": "execute_result",
          "data": {
            "text/plain": [
              "Risk  Sales\n",
              "0     0        2342\n",
              "      1         587\n",
              "1     0          46\n",
              "      1          44\n",
              "Name: Customer_num, dtype: int64"
            ]
          },
          "metadata": {
            "tags": []
          },
          "execution_count": 36
        }
      ]
    },
    {
      "cell_type": "code",
      "metadata": {
        "colab": {
          "base_uri": "https://localhost:8080/",
          "height": 436
        },
        "id": "JOCNr0bq3GRw",
        "outputId": "1292e386-556b-4c4b-9d73-723e3a9551ca"
      },
      "source": [
        "df_new"
      ],
      "execution_count": 37,
      "outputs": [
        {
          "output_type": "execute_result",
          "data": {
            "text/html": [
              "<div>\n",
              "<style scoped>\n",
              "    .dataframe tbody tr th:only-of-type {\n",
              "        vertical-align: middle;\n",
              "    }\n",
              "\n",
              "    .dataframe tbody tr th {\n",
              "        vertical-align: top;\n",
              "    }\n",
              "\n",
              "    .dataframe thead th {\n",
              "        text-align: right;\n",
              "    }\n",
              "</style>\n",
              "<table border=\"1\" class=\"dataframe\">\n",
              "  <thead>\n",
              "    <tr style=\"text-align: right;\">\n",
              "      <th></th>\n",
              "      <th>YEAR</th>\n",
              "      <th>Customer_num</th>\n",
              "      <th>Establishment_Day</th>\n",
              "      <th>Number_of_Emp</th>\n",
              "      <th>Profit</th>\n",
              "      <th>Sector</th>\n",
              "      <th>Region</th>\n",
              "      <th>Total_Risk</th>\n",
              "      <th>Total_Limit</th>\n",
              "      <th>Sales</th>\n",
              "      <th>Risk</th>\n",
              "      <th>intercept</th>\n",
              "    </tr>\n",
              "    <tr>\n",
              "      <th>Customer_num</th>\n",
              "      <th></th>\n",
              "      <th></th>\n",
              "      <th></th>\n",
              "      <th></th>\n",
              "      <th></th>\n",
              "      <th></th>\n",
              "      <th></th>\n",
              "      <th></th>\n",
              "      <th></th>\n",
              "      <th></th>\n",
              "      <th></th>\n",
              "      <th></th>\n",
              "    </tr>\n",
              "  </thead>\n",
              "  <tbody>\n",
              "    <tr>\n",
              "      <th>RATI1000EDC</th>\n",
              "      <td>2016</td>\n",
              "      <td>RATI1000EDC</td>\n",
              "      <td>40206</td>\n",
              "      <td>13.0</td>\n",
              "      <td>39846.0</td>\n",
              "      <td>RETAIL-WHOLESALE</td>\n",
              "      <td>Marmara Region</td>\n",
              "      <td>38795.0</td>\n",
              "      <td>722891.0</td>\n",
              "      <td>0</td>\n",
              "      <td>0</td>\n",
              "      <td>1</td>\n",
              "    </tr>\n",
              "    <tr>\n",
              "      <th>RATI1001HPF</th>\n",
              "      <td>2017</td>\n",
              "      <td>RATI1001HPF</td>\n",
              "      <td>33701</td>\n",
              "      <td>20.0</td>\n",
              "      <td>82182.0</td>\n",
              "      <td>OTHERS</td>\n",
              "      <td>Marmara Region</td>\n",
              "      <td>4603985.0</td>\n",
              "      <td>12112848.0</td>\n",
              "      <td>0</td>\n",
              "      <td>0</td>\n",
              "      <td>1</td>\n",
              "    </tr>\n",
              "    <tr>\n",
              "      <th>RATI1006ZUA</th>\n",
              "      <td>2017</td>\n",
              "      <td>RATI1006ZUA</td>\n",
              "      <td>38138</td>\n",
              "      <td>20.0</td>\n",
              "      <td>39176.0</td>\n",
              "      <td>SERVICES</td>\n",
              "      <td>Central Anatolia Region</td>\n",
              "      <td>669969.0</td>\n",
              "      <td>3429846.0</td>\n",
              "      <td>0</td>\n",
              "      <td>0</td>\n",
              "      <td>1</td>\n",
              "    </tr>\n",
              "    <tr>\n",
              "      <th>RATI1008FDC</th>\n",
              "      <td>2015</td>\n",
              "      <td>RATI1008FDC</td>\n",
              "      <td>40224</td>\n",
              "      <td>9.0</td>\n",
              "      <td>95724.0</td>\n",
              "      <td>RETAIL-WHOLESALE</td>\n",
              "      <td>Southeastern Anatolia Region</td>\n",
              "      <td>3288592.0</td>\n",
              "      <td>8237700.0</td>\n",
              "      <td>1</td>\n",
              "      <td>0</td>\n",
              "      <td>1</td>\n",
              "    </tr>\n",
              "    <tr>\n",
              "      <th>RATI1015EBB</th>\n",
              "      <td>2016</td>\n",
              "      <td>RATI1015EBB</td>\n",
              "      <td>36161</td>\n",
              "      <td>33.0</td>\n",
              "      <td>58446.0</td>\n",
              "      <td>MANUFACTURING</td>\n",
              "      <td>Marmara Region</td>\n",
              "      <td>216474.0</td>\n",
              "      <td>3325581.0</td>\n",
              "      <td>0</td>\n",
              "      <td>0</td>\n",
              "      <td>1</td>\n",
              "    </tr>\n",
              "    <tr>\n",
              "      <th>...</th>\n",
              "      <td>...</td>\n",
              "      <td>...</td>\n",
              "      <td>...</td>\n",
              "      <td>...</td>\n",
              "      <td>...</td>\n",
              "      <td>...</td>\n",
              "      <td>...</td>\n",
              "      <td>...</td>\n",
              "      <td>...</td>\n",
              "      <td>...</td>\n",
              "      <td>...</td>\n",
              "      <td>...</td>\n",
              "    </tr>\n",
              "    <tr>\n",
              "      <th>RATI9985VHY</th>\n",
              "      <td>2017</td>\n",
              "      <td>RATI9985VHY</td>\n",
              "      <td>41595</td>\n",
              "      <td>5.0</td>\n",
              "      <td>6469.0</td>\n",
              "      <td>SERVICES</td>\n",
              "      <td>NaN</td>\n",
              "      <td>71396.0</td>\n",
              "      <td>136252.0</td>\n",
              "      <td>0</td>\n",
              "      <td>0</td>\n",
              "      <td>1</td>\n",
              "    </tr>\n",
              "    <tr>\n",
              "      <th>RATI9986SGD</th>\n",
              "      <td>2010</td>\n",
              "      <td>RATI9986SGD</td>\n",
              "      <td>34707</td>\n",
              "      <td>NaN</td>\n",
              "      <td>35202.0</td>\n",
              "      <td>MANUFACTURING</td>\n",
              "      <td>Marmara Region</td>\n",
              "      <td>300138.0</td>\n",
              "      <td>533367.0</td>\n",
              "      <td>0</td>\n",
              "      <td>0</td>\n",
              "      <td>1</td>\n",
              "    </tr>\n",
              "    <tr>\n",
              "      <th>RATI9994RYM</th>\n",
              "      <td>2016</td>\n",
              "      <td>RATI9994RYM</td>\n",
              "      <td>36152</td>\n",
              "      <td>25.0</td>\n",
              "      <td>-593249.0</td>\n",
              "      <td>RETAIL-WHOLESALE</td>\n",
              "      <td>Central Anatolia Region</td>\n",
              "      <td>3274543.0</td>\n",
              "      <td>6574278.0</td>\n",
              "      <td>0</td>\n",
              "      <td>0</td>\n",
              "      <td>1</td>\n",
              "    </tr>\n",
              "    <tr>\n",
              "      <th>RATI9994ZTJ</th>\n",
              "      <td>2017</td>\n",
              "      <td>RATI9994ZTJ</td>\n",
              "      <td>39032</td>\n",
              "      <td>5.0</td>\n",
              "      <td>160145.0</td>\n",
              "      <td>RETAIL-WHOLESALE</td>\n",
              "      <td>NaN</td>\n",
              "      <td>334875.0</td>\n",
              "      <td>9759376.0</td>\n",
              "      <td>0</td>\n",
              "      <td>0</td>\n",
              "      <td>1</td>\n",
              "    </tr>\n",
              "    <tr>\n",
              "      <th>RATI9996WER</th>\n",
              "      <td>2017</td>\n",
              "      <td>RATI9996WER</td>\n",
              "      <td>35259</td>\n",
              "      <td>45.0</td>\n",
              "      <td>32200.0</td>\n",
              "      <td>RETAIL-WHOLESALE</td>\n",
              "      <td>Marmara Region</td>\n",
              "      <td>841348.0</td>\n",
              "      <td>2207153.0</td>\n",
              "      <td>0</td>\n",
              "      <td>0</td>\n",
              "      <td>1</td>\n",
              "    </tr>\n",
              "  </tbody>\n",
              "</table>\n",
              "<p>3019 rows × 12 columns</p>\n",
              "</div>"
            ],
            "text/plain": [
              "              YEAR Customer_num  Establishment_Day  ...  Sales  Risk intercept\n",
              "Customer_num                                        ...                       \n",
              "RATI1000EDC   2016  RATI1000EDC              40206  ...      0     0         1\n",
              "RATI1001HPF   2017  RATI1001HPF              33701  ...      0     0         1\n",
              "RATI1006ZUA   2017  RATI1006ZUA              38138  ...      0     0         1\n",
              "RATI1008FDC   2015  RATI1008FDC              40224  ...      1     0         1\n",
              "RATI1015EBB   2016  RATI1015EBB              36161  ...      0     0         1\n",
              "...            ...          ...                ...  ...    ...   ...       ...\n",
              "RATI9985VHY   2017  RATI9985VHY              41595  ...      0     0         1\n",
              "RATI9986SGD   2010  RATI9986SGD              34707  ...      0     0         1\n",
              "RATI9994RYM   2016  RATI9994RYM              36152  ...      0     0         1\n",
              "RATI9994ZTJ   2017  RATI9994ZTJ              39032  ...      0     0         1\n",
              "RATI9996WER   2017  RATI9996WER              35259  ...      0     0         1\n",
              "\n",
              "[3019 rows x 12 columns]"
            ]
          },
          "metadata": {
            "tags": []
          },
          "execution_count": 37
        }
      ]
    },
    {
      "cell_type": "markdown",
      "metadata": {
        "id": "ZrFezYPc3ZUF"
      },
      "source": [
        "To look up the correlation between Sales and Risk column, I will feed my model just with below features."
      ]
    },
    {
      "cell_type": "code",
      "metadata": {
        "id": "MKagsd0Z-jtN",
        "colab": {
          "base_uri": "https://localhost:8080/"
        },
        "outputId": "55d42618-8d09-4d33-9504-df16dafa4d8e"
      },
      "source": [
        "logit1 = sm.Logit(df_new['Sales'],df_new[['intercept' ,'Risk']])\n",
        "outputs1 = logit1.fit()"
      ],
      "execution_count": 39,
      "outputs": [
        {
          "output_type": "stream",
          "text": [
            "Optimization terminated successfully.\n",
            "         Current function value: 0.506692\n",
            "         Iterations 5\n"
          ],
          "name": "stdout"
        }
      ]
    },
    {
      "cell_type": "code",
      "metadata": {
        "id": "RBtkjdCo-jtN",
        "colab": {
          "base_uri": "https://localhost:8080/",
          "height": 213
        },
        "outputId": "b05055e5-e492-4186-d0d4-6adc34190ba7"
      },
      "source": [
        "outputs1.summary()"
      ],
      "execution_count": 40,
      "outputs": [
        {
          "output_type": "execute_result",
          "data": {
            "text/html": [
              "<table class=\"simpletable\">\n",
              "<caption>Logit Regression Results</caption>\n",
              "<tr>\n",
              "  <th>Dep. Variable:</th>         <td>Sales</td>      <th>  No. Observations:  </th>  <td>  3019</td>  \n",
              "</tr>\n",
              "<tr>\n",
              "  <th>Model:</th>                 <td>Logit</td>      <th>  Df Residuals:      </th>  <td>  3017</td>  \n",
              "</tr>\n",
              "<tr>\n",
              "  <th>Method:</th>                 <td>MLE</td>       <th>  Df Model:          </th>  <td>     1</td>  \n",
              "</tr>\n",
              "<tr>\n",
              "  <th>Date:</th>            <td>Tue, 25 May 2021</td> <th>  Pseudo R-squ.:     </th>  <td>0.01161</td> \n",
              "</tr>\n",
              "<tr>\n",
              "  <th>Time:</th>                <td>04:53:01</td>     <th>  Log-Likelihood:    </th> <td> -1529.7</td> \n",
              "</tr>\n",
              "<tr>\n",
              "  <th>converged:</th>             <td>True</td>       <th>  LL-Null:           </th> <td> -1547.7</td> \n",
              "</tr>\n",
              "<tr>\n",
              "  <th>Covariance Type:</th>     <td>nonrobust</td>    <th>  LLR p-value:       </th> <td>2.050e-09</td>\n",
              "</tr>\n",
              "</table>\n",
              "<table class=\"simpletable\">\n",
              "<tr>\n",
              "      <td></td>         <th>coef</th>     <th>std err</th>      <th>z</th>      <th>P>|z|</th>  <th>[0.025</th>    <th>0.975]</th>  \n",
              "</tr>\n",
              "<tr>\n",
              "  <th>intercept</th> <td>   -1.3837</td> <td>    0.046</td> <td>  -29.978</td> <td> 0.000</td> <td>   -1.474</td> <td>   -1.293</td>\n",
              "</tr>\n",
              "<tr>\n",
              "  <th>Risk</th>      <td>    1.3393</td> <td>    0.216</td> <td>    6.204</td> <td> 0.000</td> <td>    0.916</td> <td>    1.762</td>\n",
              "</tr>\n",
              "</table>"
            ],
            "text/plain": [
              "<class 'statsmodels.iolib.summary.Summary'>\n",
              "\"\"\"\n",
              "                           Logit Regression Results                           \n",
              "==============================================================================\n",
              "Dep. Variable:                  Sales   No. Observations:                 3019\n",
              "Model:                          Logit   Df Residuals:                     3017\n",
              "Method:                           MLE   Df Model:                            1\n",
              "Date:                Tue, 25 May 2021   Pseudo R-squ.:                 0.01161\n",
              "Time:                        04:53:01   Log-Likelihood:                -1529.7\n",
              "converged:                       True   LL-Null:                       -1547.7\n",
              "Covariance Type:            nonrobust   LLR p-value:                 2.050e-09\n",
              "==============================================================================\n",
              "                 coef    std err          z      P>|z|      [0.025      0.975]\n",
              "------------------------------------------------------------------------------\n",
              "intercept     -1.3837      0.046    -29.978      0.000      -1.474      -1.293\n",
              "Risk           1.3393      0.216      6.204      0.000       0.916       1.762\n",
              "==============================================================================\n",
              "\"\"\""
            ]
          },
          "metadata": {
            "tags": []
          },
          "execution_count": 40
        }
      ]
    },
    {
      "cell_type": "markdown",
      "metadata": {
        "id": "SRTryMXR-jtN"
      },
      "source": [
        "* There is strong statistical evidence to claim that clients with more than 5 million risks in banking sector, also has over 5 million net sales. (p-value less than 0.05)\n",
        "\n",
        "* This means that for a one-unit increase in  Risk (in other words, going from having less than 5 mio risk to having greater than 5 Mio risk), we expect a 1.3393 increase in the log-odds of the dependent variable Sales(having greater than 5 mio sales), holding all other independent variables constant"
      ]
    },
    {
      "cell_type": "markdown",
      "metadata": {
        "id": "lkbhMaE0-jtN"
      },
      "source": [
        "## Question3\n",
        "\n",
        "How do you calculate experience in sector of clients? Do you think this variable is related to net sales as Mrs. Sevinç stated?"
      ]
    },
    {
      "cell_type": "markdown",
      "metadata": {
        "id": "b8K0tFnf-jtO"
      },
      "source": [
        "Experience can be inferred from the date of establishment of the company (i.e., earlier the date, more the experience). As we mentioned in the 1st question, this \"Establishment_Day\" feature looks irrelevant but a more substantial analysis can be made by systematically analyzing the correlation between Establishment Day and the Net Sales.\n",
        "\n",
        "Data includes the tenure of customer in terms of day. Like I have already done in the second question, we can do logistic regression to find out whether feature statistically important or not."
      ]
    },
    {
      "cell_type": "code",
      "metadata": {
        "id": "JC8DWr0r-jtO",
        "colab": {
          "base_uri": "https://localhost:8080/"
        },
        "outputId": "cb969670-5915-4057-e9cd-3a9555544020"
      },
      "source": [
        "logit2 = sm.Logit(df_new['Sales'],df_new[['intercept' ,'Establishment_Day']])\n",
        "outputs2 = logit2.fit()"
      ],
      "execution_count": 44,
      "outputs": [
        {
          "output_type": "stream",
          "text": [
            "Optimization terminated successfully.\n",
            "         Current function value: 0.508531\n",
            "         Iterations 5\n"
          ],
          "name": "stdout"
        }
      ]
    },
    {
      "cell_type": "code",
      "metadata": {
        "id": "65eKoa1i-jtO",
        "colab": {
          "base_uri": "https://localhost:8080/",
          "height": 213
        },
        "outputId": "e14f950e-0057-4d56-dd1f-95b75bc65845"
      },
      "source": [
        "outputs2.summary()"
      ],
      "execution_count": 45,
      "outputs": [
        {
          "output_type": "execute_result",
          "data": {
            "text/html": [
              "<table class=\"simpletable\">\n",
              "<caption>Logit Regression Results</caption>\n",
              "<tr>\n",
              "  <th>Dep. Variable:</th>         <td>Sales</td>      <th>  No. Observations:  </th>  <td>  3019</td>  \n",
              "</tr>\n",
              "<tr>\n",
              "  <th>Model:</th>                 <td>Logit</td>      <th>  Df Residuals:      </th>  <td>  3017</td>  \n",
              "</tr>\n",
              "<tr>\n",
              "  <th>Method:</th>                 <td>MLE</td>       <th>  Df Model:          </th>  <td>     1</td>  \n",
              "</tr>\n",
              "<tr>\n",
              "  <th>Date:</th>            <td>Tue, 25 May 2021</td> <th>  Pseudo R-squ.:     </th> <td>0.008019</td> \n",
              "</tr>\n",
              "<tr>\n",
              "  <th>Time:</th>                <td>05:01:53</td>     <th>  Log-Likelihood:    </th> <td> -1535.3</td> \n",
              "</tr>\n",
              "<tr>\n",
              "  <th>converged:</th>             <td>True</td>       <th>  LL-Null:           </th> <td> -1547.7</td> \n",
              "</tr>\n",
              "<tr>\n",
              "  <th>Covariance Type:</th>     <td>nonrobust</td>    <th>  LLR p-value:       </th> <td>6.293e-07</td>\n",
              "</tr>\n",
              "</table>\n",
              "<table class=\"simpletable\">\n",
              "<tr>\n",
              "          <td></td>             <th>coef</th>     <th>std err</th>      <th>z</th>      <th>P>|z|</th>  <th>[0.025</th>    <th>0.975]</th>  \n",
              "</tr>\n",
              "<tr>\n",
              "  <th>intercept</th>         <td>    1.4122</td> <td>    0.550</td> <td>    2.566</td> <td> 0.010</td> <td>    0.334</td> <td>    2.491</td>\n",
              "</tr>\n",
              "<tr>\n",
              "  <th>Establishment_Day</th> <td>-7.273e-05</td> <td> 1.46e-05</td> <td>   -4.979</td> <td> 0.000</td> <td>   -0.000</td> <td>-4.41e-05</td>\n",
              "</tr>\n",
              "</table>"
            ],
            "text/plain": [
              "<class 'statsmodels.iolib.summary.Summary'>\n",
              "\"\"\"\n",
              "                           Logit Regression Results                           \n",
              "==============================================================================\n",
              "Dep. Variable:                  Sales   No. Observations:                 3019\n",
              "Model:                          Logit   Df Residuals:                     3017\n",
              "Method:                           MLE   Df Model:                            1\n",
              "Date:                Tue, 25 May 2021   Pseudo R-squ.:                0.008019\n",
              "Time:                        05:01:53   Log-Likelihood:                -1535.3\n",
              "converged:                       True   LL-Null:                       -1547.7\n",
              "Covariance Type:            nonrobust   LLR p-value:                 6.293e-07\n",
              "=====================================================================================\n",
              "                        coef    std err          z      P>|z|      [0.025      0.975]\n",
              "-------------------------------------------------------------------------------------\n",
              "intercept             1.4122      0.550      2.566      0.010       0.334       2.491\n",
              "Establishment_Day -7.273e-05   1.46e-05     -4.979      0.000      -0.000   -4.41e-05\n",
              "=====================================================================================\n",
              "\"\"\""
            ]
          },
          "metadata": {
            "tags": []
          },
          "execution_count": 45
        }
      ]
    },
    {
      "cell_type": "markdown",
      "metadata": {
        "id": "4EYg_w7Z-jtO"
      },
      "source": [
        "Customer experience in terms of day information is statistically important; because, p-value is less than 0.05. For every one-unit increase in customer day tenure, we expect a 0,07273 decrease in the log-odds of Sales, holding all other independent variables constant. It means that when companies with more experience, they are less likely to have greater than 5 mio sales."
      ]
    },
    {
      "cell_type": "markdown",
      "metadata": {
        "id": "1wrrEX1x-jtO"
      },
      "source": [
        "## Question4\n",
        "\n",
        "How is your variables’ basic statistics and graphics (distributions, histograms etc.)? Do you observe any errors?"
      ]
    },
    {
      "cell_type": "code",
      "metadata": {
        "scrolled": true,
        "id": "qHVF3vIw-jtP",
        "colab": {
          "base_uri": "https://localhost:8080/",
          "height": 1000
        },
        "outputId": "2ffc66e9-c0f9-41bd-f001-d39165e52341"
      },
      "source": [
        "df_new.hist(figsize=(20, 20))"
      ],
      "execution_count": 47,
      "outputs": [
        {
          "output_type": "execute_result",
          "data": {
            "text/plain": [
              "array([[<matplotlib.axes._subplots.AxesSubplot object at 0x7f96b9df5f50>,\n",
              "        <matplotlib.axes._subplots.AxesSubplot object at 0x7f96b9e57d90>,\n",
              "        <matplotlib.axes._subplots.AxesSubplot object at 0x7f96b965c150>],\n",
              "       [<matplotlib.axes._subplots.AxesSubplot object at 0x7f96b96127d0>,\n",
              "        <matplotlib.axes._subplots.AxesSubplot object at 0x7f96b95cd250>,\n",
              "        <matplotlib.axes._subplots.AxesSubplot object at 0x7f96b95828d0>],\n",
              "       [<matplotlib.axes._subplots.AxesSubplot object at 0x7f96b953af50>,\n",
              "        <matplotlib.axes._subplots.AxesSubplot object at 0x7f96b94f9610>,\n",
              "        <matplotlib.axes._subplots.AxesSubplot object at 0x7f96b9505ad0>]],\n",
              "      dtype=object)"
            ]
          },
          "metadata": {
            "tags": []
          },
          "execution_count": 47
        },
        {
          "output_type": "display_data",
          "data": {
            "image/png": "[encoded data removed]",
            "text/plain": [
              "<Figure size 1440x1440 with 9 Axes>"
            ]
          },
          "metadata": {
            "tags": [],
            "needs_background": "light"
          }
        }
      ]
    },
    {
      "cell_type": "markdown",
      "metadata": {
        "id": "QA7P7V72-jtP"
      },
      "source": [
        "Especially 'Total_Risk', 'Number_of_Emp' and 'Total_Limit' columns have outstanding outlier values; because, we cannot observe meaningful distrubutions. Before starting a model, they need to be standardized."
      ]
    },
    {
      "cell_type": "code",
      "metadata": {
        "id": "p2I7abJk-jtP",
        "colab": {
          "base_uri": "https://localhost:8080/",
          "height": 404
        },
        "outputId": "83ac6747-d802-4895-b97a-1c22056a4736"
      },
      "source": [
        "df_new.Region.value_counts().head(40).plot.bar()\n",
        "plt.show()"
      ],
      "execution_count": 48,
      "outputs": [
        {
          "output_type": "display_data",
          "data": {
            "image/png": "[encoded data removed]",
            "text/plain": [
              "<Figure size 432x288 with 1 Axes>"
            ]
          },
          "metadata": {
            "tags": [],
            "needs_background": "light"
          }
        }
      ]
    },
    {
      "cell_type": "code",
      "metadata": {
        "colab": {
          "base_uri": "https://localhost:8080/",
          "height": 356
        },
        "id": "9mLvjIdU7NiP",
        "outputId": "76b1ce7d-ee39-417c-8ec0-adf0d41256f5"
      },
      "source": [
        "df_new.Sector.value_counts().head(40).plot.bar()\n",
        "plt.show();"
      ],
      "execution_count": 49,
      "outputs": [
        {
          "output_type": "display_data",
          "data": {
            "image/png": "[encoded data removed]",
            "text/plain": [
              "<Figure size 432x288 with 1 Axes>"
            ]
          },
          "metadata": {
            "tags": [],
            "needs_background": "light"
          }
        }
      ]
    },
    {
      "cell_type": "markdown",
      "metadata": {
        "id": "h4ksx1qh-jtP"
      },
      "source": [
        "Like we have seen in the main dataset, companies are mostly operates on retail sector in Marmara region. Before starting a model, dummy features should be created before start predictive analysis. "
      ]
    },
    {
      "cell_type": "code",
      "metadata": {
        "id": "g4n0uMKs-jtP",
        "colab": {
          "base_uri": "https://localhost:8080/",
          "height": 440
        },
        "outputId": "b348a5b1-1fbd-4d7e-9f0e-d3f0905fcace"
      },
      "source": [
        "e,ea = plt.subplots(figsize=(5, 5))\n",
        "sns.heatmap(df_new[['Sales', 'Risk',\n",
        "                      'Total_Risk', 'Total_Limit', \n",
        "                      'Establishment_Day', 'Number_of_Emp', \n",
        "                      'Profit']].corr(), annot=True, linewidths=.5, fmt= '.1f',ax=ea)\n",
        "plt.title('Correlation Map')"
      ],
      "execution_count": 51,
      "outputs": [
        {
          "output_type": "execute_result",
          "data": {
            "text/plain": [
              "Text(0.5, 1.0, 'Correlation Map')"
            ]
          },
          "metadata": {
            "tags": []
          },
          "execution_count": 51
        },
        {
          "output_type": "display_data",
          "data": {
            "image/png": "[encoded data removed]",
            "text/plain": [
              "<Figure size 360x360 with 2 Axes>"
            ]
          },
          "metadata": {
            "tags": [],
            "needs_background": "light"
          }
        }
      ]
    },
    {
      "cell_type": "markdown",
      "metadata": {
        "id": "TJLtsAMW-jtQ"
      },
      "source": [
        "* Sales feature has highest correlation with profit\n",
        "* Sales has negative correlation only with customer tenure as we found out in the Question3\n",
        "* Total Risk and Total Limit features are highly correlated with each other. Therefore, one of them should be selected on the final model"
      ]
    },
    {
      "cell_type": "code",
      "metadata": {
        "id": "dqmM1ocC-jtQ",
        "colab": {
          "base_uri": "https://localhost:8080/"
        },
        "outputId": "c14f887e-d521-4bab-928c-c9275493e080"
      },
      "source": [
        "df_new.info()"
      ],
      "execution_count": 52,
      "outputs": [
        {
          "output_type": "stream",
          "text": [
            "<class 'pandas.core.frame.DataFrame'>\n",
            "Index: 3019 entries, RATI1000EDC to RATI9996WER\n",
            "Data columns (total 12 columns):\n",
            " #   Column             Non-Null Count  Dtype  \n",
            "---  ------             --------------  -----  \n",
            " 0   YEAR               3019 non-null   int64  \n",
            " 1   Customer_num       3019 non-null   object \n",
            " 2   Establishment_Day  3019 non-null   int64  \n",
            " 3   Number_of_Emp      2930 non-null   float64\n",
            " 4   Profit             3019 non-null   float64\n",
            " 5   Sector             3019 non-null   object \n",
            " 6   Region             2750 non-null   object \n",
            " 7   Total_Risk         3019 non-null   float64\n",
            " 8   Total_Limit        3019 non-null   float64\n",
            " 9   Sales              3019 non-null   int64  \n",
            " 10  Risk               3019 non-null   int64  \n",
            " 11  intercept          3019 non-null   int64  \n",
            "dtypes: float64(4), int64(5), object(3)\n",
            "memory usage: 386.6+ KB\n"
          ],
          "name": "stdout"
        }
      ]
    },
    {
      "cell_type": "markdown",
      "metadata": {
        "id": "qtm8eBwI-jtQ"
      },
      "source": [
        "Number_of_Employees and Region features have missing values, should be filled."
      ]
    },
    {
      "cell_type": "markdown",
      "metadata": {
        "id": "MMtHmMXP-jtQ"
      },
      "source": [
        "<a id='Question5'></a>\n",
        "## Question5\n",
        "\n",
        "What is your assumptions of your model?"
      ]
    },
    {
      "cell_type": "markdown",
      "metadata": {
        "id": "GH1FKckq-jtQ"
      },
      "source": [
        "First, binary logistic regression requires the dependent variable to be binary.\n",
        "\n",
        "Second, logistic regression requires the observations to be independent of each other.  In other words, the observations should not come from repeated measurements or matched data.\n",
        "\n",
        "Third, logistic regression requires there to be little or no multicollinearity among the independent variables.  This means that the independent variables should not be too highly correlated with each other. \n",
        "\n",
        "Fourth, logistic regression assumes linearity of independent variables and log odds.\n",
        "\n",
        "Finally, logistic regression typically requires a large sample size.  A general guideline is that you need at minimum of 10 cases with the least frequent outcome for each independent variable in your model. For example, if you have 5 independent variables and the expected probability of your least frequent outcome is .10, then you would need a minimum sample size of 500 (10*5 / .10). \n"
      ]
    },
    {
      "cell_type": "markdown",
      "metadata": {
        "id": "Fqe5z_pl-jtQ"
      },
      "source": [
        "<a id='Question6'></a>\n",
        "## Question6\n",
        "\n",
        "Which methods did you apply for modeling?"
      ]
    },
    {
      "cell_type": "markdown",
      "metadata": {
        "id": "D1WBp41P-jtR"
      },
      "source": [
        "I will use logistic regression. Before diving into modelling, creation of dummy values, imputing of missing values, train-test splitting and standardization should be applied."
      ]
    },
    {
      "cell_type": "markdown",
      "metadata": {
        "id": "2FFNb3i5-jtR"
      },
      "source": [
        "##### Categorical Value Treatment / Creating Dummy Variables"
      ]
    },
    {
      "cell_type": "code",
      "metadata": {
        "id": "PXq_QyPE-jtR",
        "colab": {
          "base_uri": "https://localhost:8080/"
        },
        "outputId": "10b1987b-ad21-47cc-dc4c-7294782d434b"
      },
      "source": [
        "df_new.Sector.value_counts()"
      ],
      "execution_count": 53,
      "outputs": [
        {
          "output_type": "execute_result",
          "data": {
            "text/plain": [
              "RETAIL-WHOLESALE    1532\n",
              "MANUFACTURING        753\n",
              "OTHERS               485\n",
              "SERVICES             249\n",
              "Name: Sector, dtype: int64"
            ]
          },
          "metadata": {
            "tags": []
          },
          "execution_count": 53
        }
      ]
    },
    {
      "cell_type": "code",
      "metadata": {
        "id": "lxpLo2Bz-jtR"
      },
      "source": [
        "df_new[['Retail_flag',\n",
        "          'Manuf_flag', \n",
        "          'Other_flag',\n",
        "        'Serv_flag']] = pd.get_dummies(df_new['Sector'])[['RETAIL-WHOLESALE',\n",
        "                                                               'MANUFACTURING',\n",
        "                                                               'OTHERS',\n",
        "                                                             'SERVICES']]"
      ],
      "execution_count": 54,
      "outputs": []
    },
    {
      "cell_type": "code",
      "metadata": {
        "id": "QF2c70Ky-jtR",
        "colab": {
          "base_uri": "https://localhost:8080/"
        },
        "outputId": "4e69310c-536e-46f0-b506-f70d1c046cbd"
      },
      "source": [
        "df_new.Region.value_counts()"
      ],
      "execution_count": 55,
      "outputs": [
        {
          "output_type": "execute_result",
          "data": {
            "text/plain": [
              "Marmara Region                  1352\n",
              "Central Anatolia Region          433\n",
              "Aegean Region                    330\n",
              "Mediterranean Region             322\n",
              "Black Sea Region                 126\n",
              "Southeastern Anatolia Region     125\n",
              "Eastern Anatolia Region           62\n",
              "Name: Region, dtype: int64"
            ]
          },
          "metadata": {
            "tags": []
          },
          "execution_count": 55
        }
      ]
    },
    {
      "cell_type": "code",
      "metadata": {
        "id": "MCEHW8eH-jtS"
      },
      "source": [
        "df_new[['marmara_flag',\n",
        "          'central_anatolia_flag',\n",
        "          'aegean_flag',\n",
        "          'mediterranean_flag',\n",
        "          'black_flag', \n",
        "          'southeastern-flag',\n",
        "          'eastern-antolia-flag']] = pd.get_dummies(df_new['Region'])[['Marmara Region',\n",
        "                                                               'Central Anatolia Region',\n",
        "                                                               'Aegean Region',\n",
        "                                                                'Mediterranean Region', \n",
        "                                                                'Black Sea Region', \n",
        "                                                                'Southeastern Anatolia Region',\n",
        "                                                                'Eastern Anatolia Region']]"
      ],
      "execution_count": 56,
      "outputs": []
    },
    {
      "cell_type": "code",
      "metadata": {
        "id": "y2H892s--jtS",
        "colab": {
          "base_uri": "https://localhost:8080/",
          "height": 414
        },
        "outputId": "e21ae19f-c9c1-4c53-9203-911904185da8"
      },
      "source": [
        "df_new.sample(5)"
      ],
      "execution_count": 57,
      "outputs": [
        {
          "output_type": "execute_result",
          "data": {
            "text/html": [
              "<div>\n",
              "<style scoped>\n",
              "    .dataframe tbody tr th:only-of-type {\n",
              "        vertical-align: middle;\n",
              "    }\n",
              "\n",
              "    .dataframe tbody tr th {\n",
              "        vertical-align: top;\n",
              "    }\n",
              "\n",
              "    .dataframe thead th {\n",
              "        text-align: right;\n",
              "    }\n",
              "</style>\n",
              "<table border=\"1\" class=\"dataframe\">\n",
              "  <thead>\n",
              "    <tr style=\"text-align: right;\">\n",
              "      <th></th>\n",
              "      <th>YEAR</th>\n",
              "      <th>Customer_num</th>\n",
              "      <th>Establishment_Day</th>\n",
              "      <th>Number_of_Emp</th>\n",
              "      <th>Profit</th>\n",
              "      <th>Sector</th>\n",
              "      <th>Region</th>\n",
              "      <th>Total_Risk</th>\n",
              "      <th>Total_Limit</th>\n",
              "      <th>Sales</th>\n",
              "      <th>Risk</th>\n",
              "      <th>intercept</th>\n",
              "      <th>Retail_flag</th>\n",
              "      <th>Manuf_flag</th>\n",
              "      <th>Other_flag</th>\n",
              "      <th>Serv_flag</th>\n",
              "      <th>marmara_flag</th>\n",
              "      <th>central_anatolia_flag</th>\n",
              "      <th>aegean_flag</th>\n",
              "      <th>mediterranean_flag</th>\n",
              "      <th>black_flag</th>\n",
              "      <th>southeastern-flag</th>\n",
              "      <th>eastern-antolia-flag</th>\n",
              "    </tr>\n",
              "    <tr>\n",
              "      <th>Customer_num</th>\n",
              "      <th></th>\n",
              "      <th></th>\n",
              "      <th></th>\n",
              "      <th></th>\n",
              "      <th></th>\n",
              "      <th></th>\n",
              "      <th></th>\n",
              "      <th></th>\n",
              "      <th></th>\n",
              "      <th></th>\n",
              "      <th></th>\n",
              "      <th></th>\n",
              "      <th></th>\n",
              "      <th></th>\n",
              "      <th></th>\n",
              "      <th></th>\n",
              "      <th></th>\n",
              "      <th></th>\n",
              "      <th></th>\n",
              "      <th></th>\n",
              "      <th></th>\n",
              "      <th></th>\n",
              "      <th></th>\n",
              "    </tr>\n",
              "  </thead>\n",
              "  <tbody>\n",
              "    <tr>\n",
              "      <th>RATI2806ITE</th>\n",
              "      <td>2017</td>\n",
              "      <td>RATI2806ITE</td>\n",
              "      <td>25217</td>\n",
              "      <td>17.0</td>\n",
              "      <td>44027.0</td>\n",
              "      <td>MANUFACTURING</td>\n",
              "      <td>Black Sea Region</td>\n",
              "      <td>71246.0</td>\n",
              "      <td>308938.0</td>\n",
              "      <td>0</td>\n",
              "      <td>0</td>\n",
              "      <td>1</td>\n",
              "      <td>0</td>\n",
              "      <td>1</td>\n",
              "      <td>0</td>\n",
              "      <td>0</td>\n",
              "      <td>0</td>\n",
              "      <td>0</td>\n",
              "      <td>0</td>\n",
              "      <td>0</td>\n",
              "      <td>1</td>\n",
              "      <td>0</td>\n",
              "      <td>0</td>\n",
              "    </tr>\n",
              "    <tr>\n",
              "      <th>RATI5397COH</th>\n",
              "      <td>2016</td>\n",
              "      <td>RATI5397COH</td>\n",
              "      <td>35640</td>\n",
              "      <td>2.0</td>\n",
              "      <td>34836.0</td>\n",
              "      <td>RETAIL-WHOLESALE</td>\n",
              "      <td>Central Anatolia Region</td>\n",
              "      <td>198346.0</td>\n",
              "      <td>1284134.0</td>\n",
              "      <td>1</td>\n",
              "      <td>0</td>\n",
              "      <td>1</td>\n",
              "      <td>1</td>\n",
              "      <td>0</td>\n",
              "      <td>0</td>\n",
              "      <td>0</td>\n",
              "      <td>0</td>\n",
              "      <td>1</td>\n",
              "      <td>0</td>\n",
              "      <td>0</td>\n",
              "      <td>0</td>\n",
              "      <td>0</td>\n",
              "      <td>0</td>\n",
              "    </tr>\n",
              "    <tr>\n",
              "      <th>RATI6753TRZ</th>\n",
              "      <td>2016</td>\n",
              "      <td>RATI6753TRZ</td>\n",
              "      <td>41183</td>\n",
              "      <td>14.0</td>\n",
              "      <td>7829.0</td>\n",
              "      <td>MANUFACTURING</td>\n",
              "      <td>Marmara Region</td>\n",
              "      <td>212419.0</td>\n",
              "      <td>391817.0</td>\n",
              "      <td>0</td>\n",
              "      <td>0</td>\n",
              "      <td>1</td>\n",
              "      <td>0</td>\n",
              "      <td>1</td>\n",
              "      <td>0</td>\n",
              "      <td>0</td>\n",
              "      <td>1</td>\n",
              "      <td>0</td>\n",
              "      <td>0</td>\n",
              "      <td>0</td>\n",
              "      <td>0</td>\n",
              "      <td>0</td>\n",
              "      <td>0</td>\n",
              "    </tr>\n",
              "    <tr>\n",
              "      <th>RATI3896ZFJ</th>\n",
              "      <td>2010</td>\n",
              "      <td>RATI3896ZFJ</td>\n",
              "      <td>37288</td>\n",
              "      <td>NaN</td>\n",
              "      <td>63298.0</td>\n",
              "      <td>MANUFACTURING</td>\n",
              "      <td>Central Anatolia Region</td>\n",
              "      <td>212303.0</td>\n",
              "      <td>399144.0</td>\n",
              "      <td>0</td>\n",
              "      <td>0</td>\n",
              "      <td>1</td>\n",
              "      <td>0</td>\n",
              "      <td>1</td>\n",
              "      <td>0</td>\n",
              "      <td>0</td>\n",
              "      <td>0</td>\n",
              "      <td>1</td>\n",
              "      <td>0</td>\n",
              "      <td>0</td>\n",
              "      <td>0</td>\n",
              "      <td>0</td>\n",
              "      <td>0</td>\n",
              "    </tr>\n",
              "    <tr>\n",
              "      <th>RATI1744GHE</th>\n",
              "      <td>2017</td>\n",
              "      <td>RATI1744GHE</td>\n",
              "      <td>35086</td>\n",
              "      <td>10.0</td>\n",
              "      <td>-81377.0</td>\n",
              "      <td>RETAIL-WHOLESALE</td>\n",
              "      <td>Marmara Region</td>\n",
              "      <td>771196.0</td>\n",
              "      <td>1183066.0</td>\n",
              "      <td>0</td>\n",
              "      <td>0</td>\n",
              "      <td>1</td>\n",
              "      <td>1</td>\n",
              "      <td>0</td>\n",
              "      <td>0</td>\n",
              "      <td>0</td>\n",
              "      <td>1</td>\n",
              "      <td>0</td>\n",
              "      <td>0</td>\n",
              "      <td>0</td>\n",
              "      <td>0</td>\n",
              "      <td>0</td>\n",
              "      <td>0</td>\n",
              "    </tr>\n",
              "  </tbody>\n",
              "</table>\n",
              "</div>"
            ],
            "text/plain": [
              "              YEAR Customer_num  ...  southeastern-flag  eastern-antolia-flag\n",
              "Customer_num                     ...                                         \n",
              "RATI2806ITE   2017  RATI2806ITE  ...                  0                     0\n",
              "RATI5397COH   2016  RATI5397COH  ...                  0                     0\n",
              "RATI6753TRZ   2016  RATI6753TRZ  ...                  0                     0\n",
              "RATI3896ZFJ   2010  RATI3896ZFJ  ...                  0                     0\n",
              "RATI1744GHE   2017  RATI1744GHE  ...                  0                     0\n",
              "\n",
              "[5 rows x 23 columns]"
            ]
          },
          "metadata": {
            "tags": []
          },
          "execution_count": 57
        }
      ]
    },
    {
      "cell_type": "markdown",
      "metadata": {
        "id": "TFuFWt2O-jtT"
      },
      "source": [
        "##### Missing Values\n",
        "\n",
        "There are many ways to fill missing values, even one of them is using machine learning algorithms like PCA. However, to make it easy in this case, I prefer to impute the missed values with median of the column; because, there are outlier values in the dataset."
      ]
    },
    {
      "cell_type": "code",
      "metadata": {
        "id": "Xf9ai5xb-jtU",
        "colab": {
          "base_uri": "https://localhost:8080/",
          "height": 167
        },
        "outputId": "722c66cb-0f7c-4bd2-ee3a-8ca771c17335"
      },
      "source": [
        "imputer = SimpleImputer(missing_values=np.nan, strategy='median' )\n",
        "\n",
        "\n",
        "Number_of_Emp = df_new.iloc[:,3:4].values\n",
        "imputer = imputer.fit(Number_of_Emp)\n",
        "Number_of_Emp = imputer.transform(Number_of_Emp)\n",
        "\n",
        "# Converting numpy array to pandas dataframe\n",
        "Number_of_Emp2 =pd.DataFrame(data = Number_of_Emp, index = range(3019), columns = ['Number_of_Emp_wo_missing'])\n",
        "Number_of_Emp2.sample(4)"
      ],
      "execution_count": 60,
      "outputs": [
        {
          "output_type": "execute_result",
          "data": {
            "text/html": [
              "<div>\n",
              "<style scoped>\n",
              "    .dataframe tbody tr th:only-of-type {\n",
              "        vertical-align: middle;\n",
              "    }\n",
              "\n",
              "    .dataframe tbody tr th {\n",
              "        vertical-align: top;\n",
              "    }\n",
              "\n",
              "    .dataframe thead th {\n",
              "        text-align: right;\n",
              "    }\n",
              "</style>\n",
              "<table border=\"1\" class=\"dataframe\">\n",
              "  <thead>\n",
              "    <tr style=\"text-align: right;\">\n",
              "      <th></th>\n",
              "      <th>Number_of_Emp_wo_missing</th>\n",
              "    </tr>\n",
              "  </thead>\n",
              "  <tbody>\n",
              "    <tr>\n",
              "      <th>643</th>\n",
              "      <td>5.0</td>\n",
              "    </tr>\n",
              "    <tr>\n",
              "      <th>2847</th>\n",
              "      <td>41.0</td>\n",
              "    </tr>\n",
              "    <tr>\n",
              "      <th>1974</th>\n",
              "      <td>27.0</td>\n",
              "    </tr>\n",
              "    <tr>\n",
              "      <th>1088</th>\n",
              "      <td>12.0</td>\n",
              "    </tr>\n",
              "  </tbody>\n",
              "</table>\n",
              "</div>"
            ],
            "text/plain": [
              "      Number_of_Emp_wo_missing\n",
              "643                        5.0\n",
              "2847                      41.0\n",
              "1974                      27.0\n",
              "1088                      12.0"
            ]
          },
          "metadata": {
            "tags": []
          },
          "execution_count": 60
        }
      ]
    },
    {
      "cell_type": "code",
      "metadata": {
        "id": "MR4if4q9-jtU",
        "colab": {
          "base_uri": "https://localhost:8080/",
          "height": 164
        },
        "outputId": "3ff4734e-336f-4e94-a8f2-65c95be2725b"
      },
      "source": [
        "# Reset indexing before joining dataframes\n",
        "\n",
        "df_new = df_new.reset_index(drop=True)\n",
        "df_new.sample()# Joining dataframes"
      ],
      "execution_count": 61,
      "outputs": [
        {
          "output_type": "execute_result",
          "data": {
            "text/html": [
              "<div>\n",
              "<style scoped>\n",
              "    .dataframe tbody tr th:only-of-type {\n",
              "        vertical-align: middle;\n",
              "    }\n",
              "\n",
              "    .dataframe tbody tr th {\n",
              "        vertical-align: top;\n",
              "    }\n",
              "\n",
              "    .dataframe thead th {\n",
              "        text-align: right;\n",
              "    }\n",
              "</style>\n",
              "<table border=\"1\" class=\"dataframe\">\n",
              "  <thead>\n",
              "    <tr style=\"text-align: right;\">\n",
              "      <th></th>\n",
              "      <th>YEAR</th>\n",
              "      <th>Customer_num</th>\n",
              "      <th>Establishment_Day</th>\n",
              "      <th>Number_of_Emp</th>\n",
              "      <th>Profit</th>\n",
              "      <th>Sector</th>\n",
              "      <th>Region</th>\n",
              "      <th>Total_Risk</th>\n",
              "      <th>Total_Limit</th>\n",
              "      <th>Sales</th>\n",
              "      <th>Risk</th>\n",
              "      <th>intercept</th>\n",
              "      <th>Retail_flag</th>\n",
              "      <th>Manuf_flag</th>\n",
              "      <th>Other_flag</th>\n",
              "      <th>Serv_flag</th>\n",
              "      <th>marmara_flag</th>\n",
              "      <th>central_anatolia_flag</th>\n",
              "      <th>aegean_flag</th>\n",
              "      <th>mediterranean_flag</th>\n",
              "      <th>black_flag</th>\n",
              "      <th>southeastern-flag</th>\n",
              "      <th>eastern-antolia-flag</th>\n",
              "    </tr>\n",
              "  </thead>\n",
              "  <tbody>\n",
              "    <tr>\n",
              "      <th>163</th>\n",
              "      <td>2016</td>\n",
              "      <td>RATI1464ONS</td>\n",
              "      <td>35825</td>\n",
              "      <td>1.0</td>\n",
              "      <td>25044.0</td>\n",
              "      <td>RETAIL-WHOLESALE</td>\n",
              "      <td>Black Sea Region</td>\n",
              "      <td>7676225.0</td>\n",
              "      <td>11699047.0</td>\n",
              "      <td>0</td>\n",
              "      <td>1</td>\n",
              "      <td>1</td>\n",
              "      <td>1</td>\n",
              "      <td>0</td>\n",
              "      <td>0</td>\n",
              "      <td>0</td>\n",
              "      <td>0</td>\n",
              "      <td>0</td>\n",
              "      <td>0</td>\n",
              "      <td>0</td>\n",
              "      <td>1</td>\n",
              "      <td>0</td>\n",
              "      <td>0</td>\n",
              "    </tr>\n",
              "  </tbody>\n",
              "</table>\n",
              "</div>"
            ],
            "text/plain": [
              "     YEAR Customer_num  ...  southeastern-flag  eastern-antolia-flag\n",
              "163  2016  RATI1464ONS  ...                  0                     0\n",
              "\n",
              "[1 rows x 23 columns]"
            ]
          },
          "metadata": {
            "tags": []
          },
          "execution_count": 61
        }
      ]
    },
    {
      "cell_type": "code",
      "metadata": {
        "colab": {
          "base_uri": "https://localhost:8080/"
        },
        "id": "-micljFrA5gH",
        "outputId": "d6865e84-51f9-4d79-a956-938d333dee14"
      },
      "source": [
        "# Join dataframes\n",
        "df_new2 = pd.concat([df_new, Number_of_Emp2], axis=1)\n",
        "df_new2.info()"
      ],
      "execution_count": 62,
      "outputs": [
        {
          "output_type": "stream",
          "text": [
            "<class 'pandas.core.frame.DataFrame'>\n",
            "RangeIndex: 3019 entries, 0 to 3018\n",
            "Data columns (total 24 columns):\n",
            " #   Column                    Non-Null Count  Dtype  \n",
            "---  ------                    --------------  -----  \n",
            " 0   YEAR                      3019 non-null   int64  \n",
            " 1   Customer_num              3019 non-null   object \n",
            " 2   Establishment_Day         3019 non-null   int64  \n",
            " 3   Number_of_Emp             2930 non-null   float64\n",
            " 4   Profit                    3019 non-null   float64\n",
            " 5   Sector                    3019 non-null   object \n",
            " 6   Region                    2750 non-null   object \n",
            " 7   Total_Risk                3019 non-null   float64\n",
            " 8   Total_Limit               3019 non-null   float64\n",
            " 9   Sales                     3019 non-null   int64  \n",
            " 10  Risk                      3019 non-null   int64  \n",
            " 11  intercept                 3019 non-null   int64  \n",
            " 12  Retail_flag               3019 non-null   uint8  \n",
            " 13  Manuf_flag                3019 non-null   uint8  \n",
            " 14  Other_flag                3019 non-null   uint8  \n",
            " 15  Serv_flag                 3019 non-null   uint8  \n",
            " 16  marmara_flag              3019 non-null   uint8  \n",
            " 17  central_anatolia_flag     3019 non-null   uint8  \n",
            " 18  aegean_flag               3019 non-null   uint8  \n",
            " 19  mediterranean_flag        3019 non-null   uint8  \n",
            " 20  black_flag                3019 non-null   uint8  \n",
            " 21  southeastern-flag         3019 non-null   uint8  \n",
            " 22  eastern-antolia-flag      3019 non-null   uint8  \n",
            " 23  Number_of_Emp_wo_missing  3019 non-null   float64\n",
            "dtypes: float64(5), int64(5), object(3), uint8(11)\n",
            "memory usage: 339.2+ KB\n"
          ],
          "name": "stdout"
        }
      ]
    },
    {
      "cell_type": "markdown",
      "metadata": {
        "id": "ArUudB3XBD5Z"
      },
      "source": [
        "You can see from above table, there is no missing value in the Number of Employee column anymore."
      ]
    },
    {
      "cell_type": "code",
      "metadata": {
        "id": "F3MVrBLMBBwT"
      },
      "source": [
        "df_new3 = df_new2.copy()"
      ],
      "execution_count": 63,
      "outputs": []
    },
    {
      "cell_type": "markdown",
      "metadata": {
        "id": "mf3OpNpj-jtU"
      },
      "source": [
        "##### Train-Test Splitting\n",
        "\n",
        "Dataset created %70 for train, %30 for test. \n",
        "\n",
        "- Train Dataset: Used to fit the machine learning model.\n",
        "- Test Dataset: Used to evaluate the fit machine learning model.\n",
        "\n",
        "The objective is to estimate the performance of the machine learning model on new data: data not used to train the model.\n",
        "This is how we expect to use the model in practice. Namely, to fit it on available data with known inputs and outputs, then make predictions on new examples in the future where we do not have the expected output or target values."
      ]
    },
    {
      "cell_type": "markdown",
      "metadata": {
        "id": "0yu0wQfRDtKt"
      },
      "source": [
        "I will drop below features because they are categorical and Machine Learning models can not process on categorical values."
      ]
    },
    {
      "cell_type": "code",
      "metadata": {
        "colab": {
          "base_uri": "https://localhost:8080/",
          "height": 367
        },
        "id": "kmBSo_3AD-Y4",
        "outputId": "85cf6459-95cd-450f-f0cd-a8f244e8f465"
      },
      "source": [
        "df_new3.head()"
      ],
      "execution_count": 64,
      "outputs": [
        {
          "output_type": "execute_result",
          "data": {
            "text/html": [
              "<div>\n",
              "<style scoped>\n",
              "    .dataframe tbody tr th:only-of-type {\n",
              "        vertical-align: middle;\n",
              "    }\n",
              "\n",
              "    .dataframe tbody tr th {\n",
              "        vertical-align: top;\n",
              "    }\n",
              "\n",
              "    .dataframe thead th {\n",
              "        text-align: right;\n",
              "    }\n",
              "</style>\n",
              "<table border=\"1\" class=\"dataframe\">\n",
              "  <thead>\n",
              "    <tr style=\"text-align: right;\">\n",
              "      <th></th>\n",
              "      <th>YEAR</th>\n",
              "      <th>Customer_num</th>\n",
              "      <th>Establishment_Day</th>\n",
              "      <th>Number_of_Emp</th>\n",
              "      <th>Profit</th>\n",
              "      <th>Sector</th>\n",
              "      <th>Region</th>\n",
              "      <th>Total_Risk</th>\n",
              "      <th>Total_Limit</th>\n",
              "      <th>Sales</th>\n",
              "      <th>Risk</th>\n",
              "      <th>intercept</th>\n",
              "      <th>Retail_flag</th>\n",
              "      <th>Manuf_flag</th>\n",
              "      <th>Other_flag</th>\n",
              "      <th>Serv_flag</th>\n",
              "      <th>marmara_flag</th>\n",
              "      <th>central_anatolia_flag</th>\n",
              "      <th>aegean_flag</th>\n",
              "      <th>mediterranean_flag</th>\n",
              "      <th>black_flag</th>\n",
              "      <th>southeastern-flag</th>\n",
              "      <th>eastern-antolia-flag</th>\n",
              "      <th>Number_of_Emp_wo_missing</th>\n",
              "    </tr>\n",
              "  </thead>\n",
              "  <tbody>\n",
              "    <tr>\n",
              "      <th>0</th>\n",
              "      <td>2016</td>\n",
              "      <td>RATI1000EDC</td>\n",
              "      <td>40206</td>\n",
              "      <td>13.0</td>\n",
              "      <td>39846.0</td>\n",
              "      <td>RETAIL-WHOLESALE</td>\n",
              "      <td>Marmara Region</td>\n",
              "      <td>38795.0</td>\n",
              "      <td>722891.0</td>\n",
              "      <td>0</td>\n",
              "      <td>0</td>\n",
              "      <td>1</td>\n",
              "      <td>1</td>\n",
              "      <td>0</td>\n",
              "      <td>0</td>\n",
              "      <td>0</td>\n",
              "      <td>1</td>\n",
              "      <td>0</td>\n",
              "      <td>0</td>\n",
              "      <td>0</td>\n",
              "      <td>0</td>\n",
              "      <td>0</td>\n",
              "      <td>0</td>\n",
              "      <td>13.0</td>\n",
              "    </tr>\n",
              "    <tr>\n",
              "      <th>1</th>\n",
              "      <td>2017</td>\n",
              "      <td>RATI1001HPF</td>\n",
              "      <td>33701</td>\n",
              "      <td>20.0</td>\n",
              "      <td>82182.0</td>\n",
              "      <td>OTHERS</td>\n",
              "      <td>Marmara Region</td>\n",
              "      <td>4603985.0</td>\n",
              "      <td>12112848.0</td>\n",
              "      <td>0</td>\n",
              "      <td>0</td>\n",
              "      <td>1</td>\n",
              "      <td>0</td>\n",
              "      <td>0</td>\n",
              "      <td>1</td>\n",
              "      <td>0</td>\n",
              "      <td>1</td>\n",
              "      <td>0</td>\n",
              "      <td>0</td>\n",
              "      <td>0</td>\n",
              "      <td>0</td>\n",
              "      <td>0</td>\n",
              "      <td>0</td>\n",
              "      <td>20.0</td>\n",
              "    </tr>\n",
              "    <tr>\n",
              "      <th>2</th>\n",
              "      <td>2017</td>\n",
              "      <td>RATI1006ZUA</td>\n",
              "      <td>38138</td>\n",
              "      <td>20.0</td>\n",
              "      <td>39176.0</td>\n",
              "      <td>SERVICES</td>\n",
              "      <td>Central Anatolia Region</td>\n",
              "      <td>669969.0</td>\n",
              "      <td>3429846.0</td>\n",
              "      <td>0</td>\n",
              "      <td>0</td>\n",
              "      <td>1</td>\n",
              "      <td>0</td>\n",
              "      <td>0</td>\n",
              "      <td>0</td>\n",
              "      <td>1</td>\n",
              "      <td>0</td>\n",
              "      <td>1</td>\n",
              "      <td>0</td>\n",
              "      <td>0</td>\n",
              "      <td>0</td>\n",
              "      <td>0</td>\n",
              "      <td>0</td>\n",
              "      <td>20.0</td>\n",
              "    </tr>\n",
              "    <tr>\n",
              "      <th>3</th>\n",
              "      <td>2015</td>\n",
              "      <td>RATI1008FDC</td>\n",
              "      <td>40224</td>\n",
              "      <td>9.0</td>\n",
              "      <td>95724.0</td>\n",
              "      <td>RETAIL-WHOLESALE</td>\n",
              "      <td>Southeastern Anatolia Region</td>\n",
              "      <td>3288592.0</td>\n",
              "      <td>8237700.0</td>\n",
              "      <td>1</td>\n",
              "      <td>0</td>\n",
              "      <td>1</td>\n",
              "      <td>1</td>\n",
              "      <td>0</td>\n",
              "      <td>0</td>\n",
              "      <td>0</td>\n",
              "      <td>0</td>\n",
              "      <td>0</td>\n",
              "      <td>0</td>\n",
              "      <td>0</td>\n",
              "      <td>0</td>\n",
              "      <td>1</td>\n",
              "      <td>0</td>\n",
              "      <td>9.0</td>\n",
              "    </tr>\n",
              "    <tr>\n",
              "      <th>4</th>\n",
              "      <td>2016</td>\n",
              "      <td>RATI1015EBB</td>\n",
              "      <td>36161</td>\n",
              "      <td>33.0</td>\n",
              "      <td>58446.0</td>\n",
              "      <td>MANUFACTURING</td>\n",
              "      <td>Marmara Region</td>\n",
              "      <td>216474.0</td>\n",
              "      <td>3325581.0</td>\n",
              "      <td>0</td>\n",
              "      <td>0</td>\n",
              "      <td>1</td>\n",
              "      <td>0</td>\n",
              "      <td>1</td>\n",
              "      <td>0</td>\n",
              "      <td>0</td>\n",
              "      <td>1</td>\n",
              "      <td>0</td>\n",
              "      <td>0</td>\n",
              "      <td>0</td>\n",
              "      <td>0</td>\n",
              "      <td>0</td>\n",
              "      <td>0</td>\n",
              "      <td>33.0</td>\n",
              "    </tr>\n",
              "  </tbody>\n",
              "</table>\n",
              "</div>"
            ],
            "text/plain": [
              "   YEAR Customer_num  ...  eastern-antolia-flag  Number_of_Emp_wo_missing\n",
              "0  2016  RATI1000EDC  ...                     0                      13.0\n",
              "1  2017  RATI1001HPF  ...                     0                      20.0\n",
              "2  2017  RATI1006ZUA  ...                     0                      20.0\n",
              "3  2015  RATI1008FDC  ...                     0                       9.0\n",
              "4  2016  RATI1015EBB  ...                     0                      33.0\n",
              "\n",
              "[5 rows x 24 columns]"
            ]
          },
          "metadata": {
            "tags": []
          },
          "execution_count": 64
        }
      ]
    },
    {
      "cell_type": "code",
      "metadata": {
        "id": "hpB-qFWQ-jtU",
        "colab": {
          "base_uri": "https://localhost:8080/",
          "height": 251
        },
        "outputId": "c38eeb58-1788-493c-e0cf-cf502a83253c"
      },
      "source": [
        "df_new3.drop([\"YEAR\",\"Customer_num\", \"Number_of_Emp\", \"Sector\", \"Region\", \"Sales\" ], axis=1, inplace=True)\n",
        "\n",
        "df_new3.head()"
      ],
      "execution_count": 65,
      "outputs": [
        {
          "output_type": "execute_result",
          "data": {
            "text/html": [
              "<div>\n",
              "<style scoped>\n",
              "    .dataframe tbody tr th:only-of-type {\n",
              "        vertical-align: middle;\n",
              "    }\n",
              "\n",
              "    .dataframe tbody tr th {\n",
              "        vertical-align: top;\n",
              "    }\n",
              "\n",
              "    .dataframe thead th {\n",
              "        text-align: right;\n",
              "    }\n",
              "</style>\n",
              "<table border=\"1\" class=\"dataframe\">\n",
              "  <thead>\n",
              "    <tr style=\"text-align: right;\">\n",
              "      <th></th>\n",
              "      <th>Establishment_Day</th>\n",
              "      <th>Profit</th>\n",
              "      <th>Total_Risk</th>\n",
              "      <th>Total_Limit</th>\n",
              "      <th>Risk</th>\n",
              "      <th>intercept</th>\n",
              "      <th>Retail_flag</th>\n",
              "      <th>Manuf_flag</th>\n",
              "      <th>Other_flag</th>\n",
              "      <th>Serv_flag</th>\n",
              "      <th>marmara_flag</th>\n",
              "      <th>central_anatolia_flag</th>\n",
              "      <th>aegean_flag</th>\n",
              "      <th>mediterranean_flag</th>\n",
              "      <th>black_flag</th>\n",
              "      <th>southeastern-flag</th>\n",
              "      <th>eastern-antolia-flag</th>\n",
              "      <th>Number_of_Emp_wo_missing</th>\n",
              "    </tr>\n",
              "  </thead>\n",
              "  <tbody>\n",
              "    <tr>\n",
              "      <th>0</th>\n",
              "      <td>40206</td>\n",
              "      <td>39846.0</td>\n",
              "      <td>38795.0</td>\n",
              "      <td>722891.0</td>\n",
              "      <td>0</td>\n",
              "      <td>1</td>\n",
              "      <td>1</td>\n",
              "      <td>0</td>\n",
              "      <td>0</td>\n",
              "      <td>0</td>\n",
              "      <td>1</td>\n",
              "      <td>0</td>\n",
              "      <td>0</td>\n",
              "      <td>0</td>\n",
              "      <td>0</td>\n",
              "      <td>0</td>\n",
              "      <td>0</td>\n",
              "      <td>13.0</td>\n",
              "    </tr>\n",
              "    <tr>\n",
              "      <th>1</th>\n",
              "      <td>33701</td>\n",
              "      <td>82182.0</td>\n",
              "      <td>4603985.0</td>\n",
              "      <td>12112848.0</td>\n",
              "      <td>0</td>\n",
              "      <td>1</td>\n",
              "      <td>0</td>\n",
              "      <td>0</td>\n",
              "      <td>1</td>\n",
              "      <td>0</td>\n",
              "      <td>1</td>\n",
              "      <td>0</td>\n",
              "      <td>0</td>\n",
              "      <td>0</td>\n",
              "      <td>0</td>\n",
              "      <td>0</td>\n",
              "      <td>0</td>\n",
              "      <td>20.0</td>\n",
              "    </tr>\n",
              "    <tr>\n",
              "      <th>2</th>\n",
              "      <td>38138</td>\n",
              "      <td>39176.0</td>\n",
              "      <td>669969.0</td>\n",
              "      <td>3429846.0</td>\n",
              "      <td>0</td>\n",
              "      <td>1</td>\n",
              "      <td>0</td>\n",
              "      <td>0</td>\n",
              "      <td>0</td>\n",
              "      <td>1</td>\n",
              "      <td>0</td>\n",
              "      <td>1</td>\n",
              "      <td>0</td>\n",
              "      <td>0</td>\n",
              "      <td>0</td>\n",
              "      <td>0</td>\n",
              "      <td>0</td>\n",
              "      <td>20.0</td>\n",
              "    </tr>\n",
              "    <tr>\n",
              "      <th>3</th>\n",
              "      <td>40224</td>\n",
              "      <td>95724.0</td>\n",
              "      <td>3288592.0</td>\n",
              "      <td>8237700.0</td>\n",
              "      <td>0</td>\n",
              "      <td>1</td>\n",
              "      <td>1</td>\n",
              "      <td>0</td>\n",
              "      <td>0</td>\n",
              "      <td>0</td>\n",
              "      <td>0</td>\n",
              "      <td>0</td>\n",
              "      <td>0</td>\n",
              "      <td>0</td>\n",
              "      <td>0</td>\n",
              "      <td>1</td>\n",
              "      <td>0</td>\n",
              "      <td>9.0</td>\n",
              "    </tr>\n",
              "    <tr>\n",
              "      <th>4</th>\n",
              "      <td>36161</td>\n",
              "      <td>58446.0</td>\n",
              "      <td>216474.0</td>\n",
              "      <td>3325581.0</td>\n",
              "      <td>0</td>\n",
              "      <td>1</td>\n",
              "      <td>0</td>\n",
              "      <td>1</td>\n",
              "      <td>0</td>\n",
              "      <td>0</td>\n",
              "      <td>1</td>\n",
              "      <td>0</td>\n",
              "      <td>0</td>\n",
              "      <td>0</td>\n",
              "      <td>0</td>\n",
              "      <td>0</td>\n",
              "      <td>0</td>\n",
              "      <td>33.0</td>\n",
              "    </tr>\n",
              "  </tbody>\n",
              "</table>\n",
              "</div>"
            ],
            "text/plain": [
              "   Establishment_Day   Profit  ...  eastern-antolia-flag  Number_of_Emp_wo_missing\n",
              "0              40206  39846.0  ...                     0                      13.0\n",
              "1              33701  82182.0  ...                     0                      20.0\n",
              "2              38138  39176.0  ...                     0                      20.0\n",
              "3              40224  95724.0  ...                     0                       9.0\n",
              "4              36161  58446.0  ...                     0                      33.0\n",
              "\n",
              "[5 rows x 18 columns]"
            ]
          },
          "metadata": {
            "tags": []
          },
          "execution_count": 65
        }
      ]
    },
    {
      "cell_type": "code",
      "metadata": {
        "id": "fTdqB8bG-jtV"
      },
      "source": [
        "X = df_new3.values#independent variables\n",
        "y = df_new2[\"Sales\"].values #dependent variable\n",
        "\n",
        "X_train, X_test,y_train,y_test = train_test_split(X,y,test_size=0.30, random_state=42)"
      ],
      "execution_count": 66,
      "outputs": []
    },
    {
      "cell_type": "markdown",
      "metadata": {
        "id": "B-_2zN3V-jtV"
      },
      "source": [
        "#### Standardization \n",
        "\n",
        "Calculating the features how much standard deviation away from the mean.\n",
        "\n",
        "Data Standardization deals with transforming the data that was acquired in different formats to a standard format. Data standardization is often used to correct and harmonize data, but it is also an important prerequisite when performing a deduplication of data."
      ]
    },
    {
      "cell_type": "code",
      "metadata": {
        "id": "cmcz95zu-jtV"
      },
      "source": [
        "sc = StandardScaler()\n",
        "X_train = sc.fit_transform(X_train)\n",
        "X_test = sc.transform(X_test)"
      ],
      "execution_count": 67,
      "outputs": []
    },
    {
      "cell_type": "markdown",
      "metadata": {
        "id": "nyc5Rh5K-jtV"
      },
      "source": [
        "#### Fitting Logistic Regression"
      ]
    },
    {
      "cell_type": "code",
      "metadata": {
        "id": "tobBHIEg-jtV"
      },
      "source": [
        "logreg = LogisticRegression(random_state=42)\n",
        "logreg.fit(X_train,y_train)\n",
        "y_pred = logreg.predict(X_test)\n",
        "y_pred2 = logreg.predict(X_train)"
      ],
      "execution_count": 68,
      "outputs": []
    },
    {
      "cell_type": "markdown",
      "metadata": {
        "id": "tqPiT1Pv-jtV"
      },
      "source": [
        "<a id='Question7'></a>\n",
        "## Question7\n",
        "\n",
        "What is your model result? How do you measure performance of your model?"
      ]
    },
    {
      "cell_type": "markdown",
      "metadata": {
        "id": "BfnDNb8x-jtW"
      },
      "source": [
        "Our aim to find out the clients which have higher than 5 million ₺ net sales. This is classification problem and Classification problems are perhaps the most common type of machine learning problem and as such there are a myriad of metrics that can be used to evaluate predictions for these types of problems.\n",
        "\n",
        "I used below Classification metrics: \n",
        "\n",
        "* Classification Accuracy\n",
        "* Log Loss\n",
        "* Area Under ROC Curve\n",
        "* Confusion Matrix\n",
        "* Classification Report\n",
        "\n",
        "There are many performance metrics calcuted from confusion matrix. However, in our case, it is important to find overall accuracy value which indicates that how algortihm estimated both goods and bads and sensitivity value which shows that how good the algorithm is estimating the bads (true positive recognition rate). Last but not least, it is also important to see recall value which indicates that how algoritmn performs good while predicting the bad."
      ]
    },
    {
      "cell_type": "markdown",
      "metadata": {
        "id": "zKpZ9MGFFwBV"
      },
      "source": [
        "            event\t\t\t    no-event\n",
        "- event\t\ttrue positive\t\tfalse positive\n",
        "- no-event\tfalse negative\t\ttrue negative\n",
        "\n",
        "\n",
        "“true positive” for correctly predicted event values.\n",
        "“false positive” for incorrectly predicted event values.\n",
        "“true negative” for correctly predicted no-event values.\n",
        "“false negative” for incorrectly predicted no-event values.\n",
        "\n",
        "\n",
        "- Classification accuracy is the ratio of correct predictions to total predictions made.\n",
        "classification accuracy = correct predictions / total predictions\n",
        "\n",
        "- It is often presented as a percentage by multiplying the result by 100.\n",
        "classification accuracy = correct predictions / total predictions * 100\n",
        "\n",
        "- Classification accuracy can also easily be turned into a misclassification rate or error rate by inverting the value, such as:\n",
        "error rate = (1 - (correct predictions / total predictions)) * 100"
      ]
    },
    {
      "cell_type": "code",
      "metadata": {
        "id": "XpRZ18k1-jtW",
        "colab": {
          "base_uri": "https://localhost:8080/"
        },
        "outputId": "a36cf57c-d8fd-4fcf-bddd-f1470837268d"
      },
      "source": [
        "cm_train = confusion_matrix(y_train,y_pred2)\n",
        "cm_train"
      ],
      "execution_count": 69,
      "outputs": [
        {
          "output_type": "execute_result",
          "data": {
            "text/plain": [
              "array([[1630,   50],\n",
              "       [ 358,   75]])"
            ]
          },
          "metadata": {
            "tags": []
          },
          "execution_count": 69
        }
      ]
    },
    {
      "cell_type": "code",
      "metadata": {
        "id": "MqLAmESZ-jtW",
        "colab": {
          "base_uri": "https://localhost:8080/"
        },
        "outputId": "4fee6689-4e80-4ee6-e67b-d6819b0c03c1"
      },
      "source": [
        "cm_test = confusion_matrix(y_test,y_pred)\n",
        "cm_test"
      ],
      "execution_count": 74,
      "outputs": [
        {
          "output_type": "execute_result",
          "data": {
            "text/plain": [
              "array([[675,  33],\n",
              "       [153,  45]])"
            ]
          },
          "metadata": {
            "tags": []
          },
          "execution_count": 74
        }
      ]
    },
    {
      "cell_type": "markdown",
      "metadata": {
        "id": "kc4dpuqOKILp"
      },
      "source": [
        "**Standardized equations**\n",
        "* sensitivity = recall = tp / t = tp / (tp + fn)\n",
        "* specificity = tn / n = tn / (tn + fp)\n",
        "* precision = tp / p = tp / (tp + fp)\n"
      ]
    },
    {
      "cell_type": "code",
      "metadata": {
        "id": "cQe0vhgB-jtX",
        "colab": {
          "base_uri": "https://localhost:8080/"
        },
        "outputId": "f5af91c6-523e-4d07-a445-5be39f5c0b1c"
      },
      "source": [
        "train_accuracy = accuracy_score(y_train,y_pred2)\n",
        "test_accuracy = accuracy_score(y_test,y_pred)\n",
        "\n",
        "print(\"Accuracy value on the train dataset: {}\" . format(train_accuracy))\n",
        "print(\"Accuracy value on the test dataset: {}\" . format(test_accuracy))"
      ],
      "execution_count": 72,
      "outputs": [
        {
          "output_type": "stream",
          "text": [
            "Accuracy value on the train dataset: 0.8069096071935636\n",
            "Accuracy value on the test dataset: 0.7947019867549668\n"
          ],
          "name": "stdout"
        }
      ]
    },
    {
      "cell_type": "markdown",
      "metadata": {
        "id": "lmdw2CUJ-jtX"
      },
      "source": [
        "There is stable performances on both train and test datasets. Model is classifing %79 correct both goods and bads."
      ]
    },
    {
      "cell_type": "markdown",
      "metadata": {
        "id": "8Ra3-ekXIP48"
      },
      "source": [
        "Sensitivity/recall – how good a test is at detecting the positives. A test can cheat and maximize this by always returning “positive”."
      ]
    },
    {
      "cell_type": "code",
      "metadata": {
        "id": "3_9s8lQ5-jtX",
        "colab": {
          "base_uri": "https://localhost:8080/"
        },
        "outputId": "78fbe0ec-9797-44c1-f3be-6e9167669f74"
      },
      "source": [
        "Sensitivity_train = cm_train[0][0]/(cm_train[0][0]+cm_train[0][1])\n",
        "Sensitivity_test = cm_test[0][0]/(cm_test[0][0]+cm_test[0][1])\n",
        "\n",
        "print(\"Sensitivity/Recall value on the train dataset: {}\" . format(Sensitivity_train))\n",
        "print(\"Sensitivity/Recall value on the test dataset: {}\" . format(Sensitivity_test))"
      ],
      "execution_count": 78,
      "outputs": [
        {
          "output_type": "stream",
          "text": [
            "Sensitivity value on the train dataset: 0.9702380952380952\n",
            "Sensitivity value on the test dataset: 0.9533898305084746\n"
          ],
          "name": "stdout"
        }
      ]
    },
    {
      "cell_type": "markdown",
      "metadata": {
        "id": "YsaHhKvC-jtY"
      },
      "source": [
        "Model captures %97 of bads correctly."
      ]
    },
    {
      "cell_type": "markdown",
      "metadata": {
        "id": "S-ZBbo1MLRqd"
      },
      "source": [
        "Precision – how many of the positively classified were relevant. A test can cheat and maximize this by only returning positive on one result it’s most confident in."
      ]
    },
    {
      "cell_type": "code",
      "metadata": {
        "id": "4H6Sm2PY-jtY",
        "colab": {
          "base_uri": "https://localhost:8080/"
        },
        "outputId": "e1945ccb-7652-42ae-e004-560f2577af8b"
      },
      "source": [
        "precision_train = cm_train[0][0]/(cm_train[0][0]+cm_train[1][0])\n",
        "precision_test = cm_test[0][0]/(cm_test[0][0]+cm_test[1][0])\n",
        "\n",
        "print(\"Precision value on the train dataset: {}\" . format(precision_train))\n",
        "print(\"Precision value on the test dataset: {}\" . format(precision_test))"
      ],
      "execution_count": 79,
      "outputs": [
        {
          "output_type": "stream",
          "text": [
            "Precision value on the train dataset: 0.8199195171026157\n",
            "Precision value on the test dataset: 0.8152173913043478\n"
          ],
          "name": "stdout"
        }
      ]
    },
    {
      "cell_type": "markdown",
      "metadata": {
        "id": "qSplI0x4-jtY"
      },
      "source": [
        "81 % of the positively classified were relevant. "
      ]
    },
    {
      "cell_type": "markdown",
      "metadata": {
        "id": "4RmJgzqFNBfx"
      },
      "source": [
        "**Classification Accuracy**\n",
        "\n",
        "Classification accuracy is the number of correct predictions made as a ratio of all predictions made.\n",
        "\n",
        "This is the most common evaluation metric for classification problems, it is also the most misused. It is really only suitable when there are an equal number of observations in each class (which is rarely the case) and that all predictions and prediction errors are equally important, which is often not the case.\n",
        "\n",
        "Below is an example of calculating classification accuracy. Giving an accuracy score of approximately 77% accurate."
      ]
    },
    {
      "cell_type": "code",
      "metadata": {
        "colab": {
          "base_uri": "https://localhost:8080/"
        },
        "id": "BNwzyD37MqU_",
        "outputId": "206c7478-2284-4510-9899-852489512b71"
      },
      "source": [
        "from sklearn import model_selection\n",
        "kfold = model_selection.KFold(n_splits=10, random_state=7, shuffle=True)\n",
        "scoring = 'accuracy'\n",
        "results = model_selection.cross_val_score(logreg, X, y, cv=kfold, scoring=scoring)\n",
        "print(\"Accuracy: %.3f (%.3f)\" % (results.mean(), results.std()))"
      ],
      "execution_count": 83,
      "outputs": [
        {
          "output_type": "stream",
          "text": [
            "Accuracy: 0.792 (0.025)\n"
          ],
          "name": "stdout"
        }
      ]
    },
    {
      "cell_type": "markdown",
      "metadata": {
        "id": "Q-8iNG4UNYH7"
      },
      "source": [
        "**Log Loss**\n",
        "\n",
        "Logistic loss (or log loss) is a performance metric for evaluating the predictions of probabilities of membership to a given class.\n",
        "\n",
        "The scalar probability between 0 and 1 can be seen as a measure of confidence for a prediction by an algorithm. Predictions that are correct or incorrect are rewarded or punished proportionally to the confidence of the prediction.\n",
        "Smaller log loss is better with 0 representing a perfect log loss."
      ]
    },
    {
      "cell_type": "code",
      "metadata": {
        "colab": {
          "base_uri": "https://localhost:8080/"
        },
        "id": "7Yiv2_EnNT8p",
        "outputId": "b94b5d8a-d925-4606-96a1-4cef02d0fe6f"
      },
      "source": [
        "scoring = 'neg_log_loss'\n",
        "results = model_selection.cross_val_score(logreg, X, y, cv=kfold, scoring=scoring)\n",
        "print(\"Logloss: %.3f (%.3f)\" % (results.mean(), results.std()))"
      ],
      "execution_count": 85,
      "outputs": [
        {
          "output_type": "stream",
          "text": [
            "Logloss: -0.480 (0.036)\n"
          ],
          "name": "stdout"
        }
      ]
    },
    {
      "cell_type": "markdown",
      "metadata": {
        "id": "t9Zc3-9INk8l"
      },
      "source": [
        "Area Under ROC Curve\n",
        "\n",
        "Area Under ROC Curve (or ROC AUC for short) is a performance metric for binary classification problems.\n",
        "\n",
        "The AUC represents a model’s ability to discriminate between positive and negative classes. An area of 1.0 represents a model that made all predictions perfectly. An area of 0.5 represents a model as good as random.\n",
        "\n",
        "A ROC Curve is a plot of the true positive rate and the false positive rate for a given set of probability predictions at different thresholds used to map the probabilities to class labels. The area under the curve is then the approximate integral under the ROC Curve.\n",
        "\n",
        "You can see the the AUC is relatively close to 1 and greater than 0.5, suggesting some skill in the predictions."
      ]
    },
    {
      "cell_type": "code",
      "metadata": {
        "colab": {
          "base_uri": "https://localhost:8080/"
        },
        "id": "W_8OtL9NNhl2",
        "outputId": "29883e66-7318-47ac-eda0-317b1d5d137a"
      },
      "source": [
        "scoring = 'roc_auc'\n",
        "results = model_selection.cross_val_score(logreg, X, y, cv=kfold, scoring=scoring)\n",
        "print(\"AUC: %.3f (%.3f)\" % (results.mean(), results.std()))"
      ],
      "execution_count": 86,
      "outputs": [
        {
          "output_type": "stream",
          "text": [
            "AUC: 0.762 (0.024)\n"
          ],
          "name": "stdout"
        }
      ]
    },
    {
      "cell_type": "markdown",
      "metadata": {
        "id": "fTEIQO82N42X"
      },
      "source": [
        "**Classification Report**\n",
        "\n",
        "Scikit-learn does provide a convenience report when working on classification problems to give you a quick idea of the accuracy of a model using a number of measures.\n",
        "\n",
        "The classification_report() function displays the precision, recall, f1-score and support for each class.\n",
        "\n",
        "The example below demonstrates the report on the binary classification problem.\n",
        "\n",
        "You can see good precisionn and recall for the algorithm."
      ]
    },
    {
      "cell_type": "code",
      "metadata": {
        "colab": {
          "base_uri": "https://localhost:8080/"
        },
        "id": "wQd4OE2UMXVe",
        "outputId": "7440505f-b069-4364-e208-1c32e557f53d"
      },
      "source": [
        "report = classification_report(y_test,y_pred)\n",
        "print(report)"
      ],
      "execution_count": 82,
      "outputs": [
        {
          "output_type": "stream",
          "text": [
            "              precision    recall  f1-score   support\n",
            "\n",
            "           0       0.82      0.95      0.88       708\n",
            "           1       0.58      0.23      0.33       198\n",
            "\n",
            "    accuracy                           0.79       906\n",
            "   macro avg       0.70      0.59      0.60       906\n",
            "weighted avg       0.76      0.79      0.76       906\n",
            "\n"
          ],
          "name": "stdout"
        }
      ]
    }
  ]
}